{
 "cells": [
  {
   "cell_type": "markdown",
   "metadata": {
    "colab_type": "text",
    "id": "view-in-github"
   },
   "source": [
    "<a href=\"https://colab.research.google.com/github/Niveditha-K17/BHDetection_GlobularClusters/blob/main/SingleBH_Predictionv1.ipynb\" target=\"_parent\"><img src=\"https://colab.research.google.com/assets/colab-badge.svg\" alt=\"Open In Colab\"/></a>"
   ]
  },
  {
   "cell_type": "markdown",
   "metadata": {
    "id": "McJHNUut6Kwj"
   },
   "source": [
    "## Importing necessary libraries and Pre-processing"
   ]
  },
  {
   "cell_type": "code",
   "execution_count": 1,
   "metadata": {
    "id": "RsSPs-uMBOTz"
   },
   "outputs": [],
   "source": [
    "import pandas as pd\n",
    "import numpy as np\n",
    "import matplotlib.pyplot as plt"
   ]
  },
  {
   "cell_type": "code",
   "execution_count": 2,
   "metadata": {
    "colab": {
     "base_uri": "https://localhost:8080/"
    },
    "id": "HDMxe_X_SRyc",
    "outputId": "c6a655b6-da4c-45c9-bd58-7758d245bfa4"
   },
   "outputs": [],
   "source": [
    "#from google.colab import drive\n",
    "#drive.mount('/content/drive')"
   ]
  },
  {
   "cell_type": "code",
   "execution_count": 3,
   "metadata": {
    "colab": {
     "base_uri": "https://localhost:8080/",
     "height": 592
    },
    "id": "2qLB7yBTCOJW",
    "outputId": "dcd2feb1-bad9-4717-b19c-b4e7c4eaea50"
   },
   "outputs": [
    {
     "data": {
      "text/html": [
       "<div>\n",
       "<style scoped>\n",
       "    .dataframe tbody tr th:only-of-type {\n",
       "        vertical-align: middle;\n",
       "    }\n",
       "\n",
       "    .dataframe tbody tr th {\n",
       "        vertical-align: top;\n",
       "    }\n",
       "\n",
       "    .dataframe thead th {\n",
       "        text-align: right;\n",
       "    }\n",
       "</style>\n",
       "<table border=\"1\" class=\"dataframe\">\n",
       "  <thead>\n",
       "    <tr style=\"text-align: right;\">\n",
       "      <th></th>\n",
       "      <th>Galactocentric Raidus</th>\n",
       "      <th>Cluster Metallicity</th>\n",
       "      <th>Number of Objects in the Cluster</th>\n",
       "      <th>Cluster Mass</th>\n",
       "      <th>Observational Core Radius</th>\n",
       "      <th>Observational Half-Light Radius</th>\n",
       "      <th>Central Surface Brightness Total</th>\n",
       "      <th>Binary Fraction</th>\n",
       "      <th>Half-Mass Relaxation Time</th>\n",
       "      <th>Total Luminosity of Cluster at 12 Gyrs</th>\n",
       "      <th>...</th>\n",
       "      <th>Half-light radius obtained from King 62 fitting</th>\n",
       "      <th>Total luminosity from snap-2D</th>\n",
       "      <th>Single Black Holes</th>\n",
       "      <th>Binary Black Holes</th>\n",
       "      <th>Black Hole Other Count</th>\n",
       "      <th>Mass of Most Massive Black Hole</th>\n",
       "      <th>Fallback Enabled</th>\n",
       "      <th>Central Velocity Dispersion</th>\n",
       "      <th>Unnamed: 22</th>\n",
       "      <th>Unnamed: 23</th>\n",
       "    </tr>\n",
       "  </thead>\n",
       "  <tbody>\n",
       "    <tr>\n",
       "      <th>0</th>\n",
       "      <td>4.483209</td>\n",
       "      <td>0.001</td>\n",
       "      <td>38920</td>\n",
       "      <td>23593.2395</td>\n",
       "      <td>0.381992</td>\n",
       "      <td>3.413317</td>\n",
       "      <td>109.654400</td>\n",
       "      <td>0.399229</td>\n",
       "      <td>885.619718</td>\n",
       "      <td>20229.8993</td>\n",
       "      <td>...</td>\n",
       "      <td>3.85929</td>\n",
       "      <td>14969.5</td>\n",
       "      <td>0</td>\n",
       "      <td>1</td>\n",
       "      <td>0</td>\n",
       "      <td>21.994084</td>\n",
       "      <td>0</td>\n",
       "      <td>1.94718</td>\n",
       "      <td>575.27</td>\n",
       "      <td>792.36</td>\n",
       "    </tr>\n",
       "    <tr>\n",
       "      <th>1</th>\n",
       "      <td>4.483209</td>\n",
       "      <td>0.001</td>\n",
       "      <td>505043</td>\n",
       "      <td>164640.2310</td>\n",
       "      <td>0.368883</td>\n",
       "      <td>2.491200</td>\n",
       "      <td>34827.624400</td>\n",
       "      <td>0.099239</td>\n",
       "      <td>3460.547220</td>\n",
       "      <td>77000.7159</td>\n",
       "      <td>...</td>\n",
       "      <td>2.54377</td>\n",
       "      <td>55168.4</td>\n",
       "      <td>1</td>\n",
       "      <td>0</td>\n",
       "      <td>0</td>\n",
       "      <td>5871.062390</td>\n",
       "      <td>0</td>\n",
       "      <td>10.15090</td>\n",
       "      <td>6338.30</td>\n",
       "      <td>22914.00</td>\n",
       "    </tr>\n",
       "    <tr>\n",
       "      <th>2</th>\n",
       "      <td>4.483209</td>\n",
       "      <td>0.001</td>\n",
       "      <td>479417</td>\n",
       "      <td>158782.2470</td>\n",
       "      <td>0.053349</td>\n",
       "      <td>1.930993</td>\n",
       "      <td>100139.011000</td>\n",
       "      <td>0.130133</td>\n",
       "      <td>2958.528450</td>\n",
       "      <td>73983.4991</td>\n",
       "      <td>...</td>\n",
       "      <td>2.03162</td>\n",
       "      <td>54178.7</td>\n",
       "      <td>1</td>\n",
       "      <td>0</td>\n",
       "      <td>0</td>\n",
       "      <td>5.907700</td>\n",
       "      <td>1</td>\n",
       "      <td>5.44959</td>\n",
       "      <td>171360.00</td>\n",
       "      <td>93731.00</td>\n",
       "    </tr>\n",
       "    <tr>\n",
       "      <th>3</th>\n",
       "      <td>4.483209</td>\n",
       "      <td>0.001</td>\n",
       "      <td>504171</td>\n",
       "      <td>173094.5800</td>\n",
       "      <td>0.239726</td>\n",
       "      <td>2.193033</td>\n",
       "      <td>13710.088900</td>\n",
       "      <td>0.184856</td>\n",
       "      <td>3949.593890</td>\n",
       "      <td>85496.8882</td>\n",
       "      <td>...</td>\n",
       "      <td>2.42598</td>\n",
       "      <td>61475.5</td>\n",
       "      <td>0</td>\n",
       "      <td>0</td>\n",
       "      <td>1</td>\n",
       "      <td>17.542009</td>\n",
       "      <td>0</td>\n",
       "      <td>4.87986</td>\n",
       "      <td>22645.00</td>\n",
       "      <td>35459.00</td>\n",
       "    </tr>\n",
       "    <tr>\n",
       "      <th>4</th>\n",
       "      <td>4.483209</td>\n",
       "      <td>0.001</td>\n",
       "      <td>501245</td>\n",
       "      <td>172722.6840</td>\n",
       "      <td>0.458644</td>\n",
       "      <td>2.537746</td>\n",
       "      <td>2589.006420</td>\n",
       "      <td>0.192672</td>\n",
       "      <td>4089.662060</td>\n",
       "      <td>78996.9967</td>\n",
       "      <td>...</td>\n",
       "      <td>2.64693</td>\n",
       "      <td>58285.7</td>\n",
       "      <td>3</td>\n",
       "      <td>1</td>\n",
       "      <td>0</td>\n",
       "      <td>12.388086</td>\n",
       "      <td>1</td>\n",
       "      <td>4.49099</td>\n",
       "      <td>7351.00</td>\n",
       "      <td>12222.00</td>\n",
       "    </tr>\n",
       "    <tr>\n",
       "      <th>...</th>\n",
       "      <td>...</td>\n",
       "      <td>...</td>\n",
       "      <td>...</td>\n",
       "      <td>...</td>\n",
       "      <td>...</td>\n",
       "      <td>...</td>\n",
       "      <td>...</td>\n",
       "      <td>...</td>\n",
       "      <td>...</td>\n",
       "      <td>...</td>\n",
       "      <td>...</td>\n",
       "      <td>...</td>\n",
       "      <td>...</td>\n",
       "      <td>...</td>\n",
       "      <td>...</td>\n",
       "      <td>...</td>\n",
       "      <td>...</td>\n",
       "      <td>...</td>\n",
       "      <td>...</td>\n",
       "      <td>...</td>\n",
       "      <td>...</td>\n",
       "    </tr>\n",
       "    <tr>\n",
       "      <th>1291</th>\n",
       "      <td>8.961667</td>\n",
       "      <td>0.001</td>\n",
       "      <td>430575</td>\n",
       "      <td>153829.5090</td>\n",
       "      <td>8.186195</td>\n",
       "      <td>11.196129</td>\n",
       "      <td>124.013015</td>\n",
       "      <td>0.084009</td>\n",
       "      <td>17004.436600</td>\n",
       "      <td>87728.4511</td>\n",
       "      <td>...</td>\n",
       "      <td>12.88920</td>\n",
       "      <td>59061.0</td>\n",
       "      <td>421</td>\n",
       "      <td>5</td>\n",
       "      <td>5</td>\n",
       "      <td>26.195472</td>\n",
       "      <td>1</td>\n",
       "      <td>3.74500</td>\n",
       "      <td>114.81</td>\n",
       "      <td>818.16</td>\n",
       "    </tr>\n",
       "    <tr>\n",
       "      <th>1292</th>\n",
       "      <td>8.961667</td>\n",
       "      <td>0.001</td>\n",
       "      <td>1148111</td>\n",
       "      <td>378797.8470</td>\n",
       "      <td>0.363009</td>\n",
       "      <td>4.047745</td>\n",
       "      <td>121091.456000</td>\n",
       "      <td>0.049244</td>\n",
       "      <td>7780.207680</td>\n",
       "      <td>208888.6760</td>\n",
       "      <td>...</td>\n",
       "      <td>4.21363</td>\n",
       "      <td>148172.0</td>\n",
       "      <td>1</td>\n",
       "      <td>0</td>\n",
       "      <td>0</td>\n",
       "      <td>8141.942800</td>\n",
       "      <td>0</td>\n",
       "      <td>9.27809</td>\n",
       "      <td>10004.00</td>\n",
       "      <td>27489.00</td>\n",
       "    </tr>\n",
       "    <tr>\n",
       "      <th>1293</th>\n",
       "      <td>8.961667</td>\n",
       "      <td>0.001</td>\n",
       "      <td>1121134</td>\n",
       "      <td>376044.7900</td>\n",
       "      <td>0.276965</td>\n",
       "      <td>5.093038</td>\n",
       "      <td>50124.732700</td>\n",
       "      <td>0.050766</td>\n",
       "      <td>8518.287010</td>\n",
       "      <td>205882.5110</td>\n",
       "      <td>...</td>\n",
       "      <td>5.49906</td>\n",
       "      <td>143544.0</td>\n",
       "      <td>5</td>\n",
       "      <td>0</td>\n",
       "      <td>0</td>\n",
       "      <td>14571.972300</td>\n",
       "      <td>1</td>\n",
       "      <td>12.35760</td>\n",
       "      <td>11224.00</td>\n",
       "      <td>25443.00</td>\n",
       "    </tr>\n",
       "    <tr>\n",
       "      <th>1294</th>\n",
       "      <td>8.961667</td>\n",
       "      <td>0.001</td>\n",
       "      <td>1124046</td>\n",
       "      <td>372312.7040</td>\n",
       "      <td>0.876489</td>\n",
       "      <td>6.211617</td>\n",
       "      <td>7679.070830</td>\n",
       "      <td>0.059884</td>\n",
       "      <td>13372.708500</td>\n",
       "      <td>206975.9980</td>\n",
       "      <td>...</td>\n",
       "      <td>6.75933</td>\n",
       "      <td>144985.0</td>\n",
       "      <td>2</td>\n",
       "      <td>0</td>\n",
       "      <td>0</td>\n",
       "      <td>4528.488600</td>\n",
       "      <td>0</td>\n",
       "      <td>7.20535</td>\n",
       "      <td>4501.60</td>\n",
       "      <td>15058.00</td>\n",
       "    </tr>\n",
       "    <tr>\n",
       "      <th>1295</th>\n",
       "      <td>8.961667</td>\n",
       "      <td>0.001</td>\n",
       "      <td>1060404</td>\n",
       "      <td>358251.7990</td>\n",
       "      <td>4.960723</td>\n",
       "      <td>9.352212</td>\n",
       "      <td>591.695393</td>\n",
       "      <td>0.073547</td>\n",
       "      <td>19822.877400</td>\n",
       "      <td>196080.6450</td>\n",
       "      <td>...</td>\n",
       "      <td>9.61243</td>\n",
       "      <td>141820.0</td>\n",
       "      <td>452</td>\n",
       "      <td>6</td>\n",
       "      <td>1</td>\n",
       "      <td>24.838628</td>\n",
       "      <td>1</td>\n",
       "      <td>5.35266</td>\n",
       "      <td>668.04</td>\n",
       "      <td>3489.30</td>\n",
       "    </tr>\n",
       "  </tbody>\n",
       "</table>\n",
       "<p>1296 rows × 24 columns</p>\n",
       "</div>"
      ],
      "text/plain": [
       "      Galactocentric Raidus  Cluster Metallicity  \\\n",
       "0                  4.483209                0.001   \n",
       "1                  4.483209                0.001   \n",
       "2                  4.483209                0.001   \n",
       "3                  4.483209                0.001   \n",
       "4                  4.483209                0.001   \n",
       "...                     ...                  ...   \n",
       "1291               8.961667                0.001   \n",
       "1292               8.961667                0.001   \n",
       "1293               8.961667                0.001   \n",
       "1294               8.961667                0.001   \n",
       "1295               8.961667                0.001   \n",
       "\n",
       "      Number of Objects in the Cluster  Cluster Mass  \\\n",
       "0                                38920    23593.2395   \n",
       "1                               505043   164640.2310   \n",
       "2                               479417   158782.2470   \n",
       "3                               504171   173094.5800   \n",
       "4                               501245   172722.6840   \n",
       "...                                ...           ...   \n",
       "1291                            430575   153829.5090   \n",
       "1292                           1148111   378797.8470   \n",
       "1293                           1121134   376044.7900   \n",
       "1294                           1124046   372312.7040   \n",
       "1295                           1060404   358251.7990   \n",
       "\n",
       "      Observational Core Radius  Observational Half-Light Radius  \\\n",
       "0                      0.381992                         3.413317   \n",
       "1                      0.368883                         2.491200   \n",
       "2                      0.053349                         1.930993   \n",
       "3                      0.239726                         2.193033   \n",
       "4                      0.458644                         2.537746   \n",
       "...                         ...                              ...   \n",
       "1291                   8.186195                        11.196129   \n",
       "1292                   0.363009                         4.047745   \n",
       "1293                   0.276965                         5.093038   \n",
       "1294                   0.876489                         6.211617   \n",
       "1295                   4.960723                         9.352212   \n",
       "\n",
       "      Central Surface Brightness Total  Binary Fraction  \\\n",
       "0                           109.654400         0.399229   \n",
       "1                         34827.624400         0.099239   \n",
       "2                        100139.011000         0.130133   \n",
       "3                         13710.088900         0.184856   \n",
       "4                          2589.006420         0.192672   \n",
       "...                                ...              ...   \n",
       "1291                        124.013015         0.084009   \n",
       "1292                     121091.456000         0.049244   \n",
       "1293                      50124.732700         0.050766   \n",
       "1294                       7679.070830         0.059884   \n",
       "1295                        591.695393         0.073547   \n",
       "\n",
       "      Half-Mass Relaxation Time  Total Luminosity of Cluster at 12 Gyrs  ...  \\\n",
       "0                    885.619718                              20229.8993  ...   \n",
       "1                   3460.547220                              77000.7159  ...   \n",
       "2                   2958.528450                              73983.4991  ...   \n",
       "3                   3949.593890                              85496.8882  ...   \n",
       "4                   4089.662060                              78996.9967  ...   \n",
       "...                         ...                                     ...  ...   \n",
       "1291               17004.436600                              87728.4511  ...   \n",
       "1292                7780.207680                             208888.6760  ...   \n",
       "1293                8518.287010                             205882.5110  ...   \n",
       "1294               13372.708500                             206975.9980  ...   \n",
       "1295               19822.877400                             196080.6450  ...   \n",
       "\n",
       "      Half-light radius obtained from King 62 fitting  \\\n",
       "0                                             3.85929   \n",
       "1                                             2.54377   \n",
       "2                                             2.03162   \n",
       "3                                             2.42598   \n",
       "4                                             2.64693   \n",
       "...                                               ...   \n",
       "1291                                         12.88920   \n",
       "1292                                          4.21363   \n",
       "1293                                          5.49906   \n",
       "1294                                          6.75933   \n",
       "1295                                          9.61243   \n",
       "\n",
       "      Total luminosity from snap-2D  Single Black Holes  Binary Black Holes  \\\n",
       "0                           14969.5                   0                   1   \n",
       "1                           55168.4                   1                   0   \n",
       "2                           54178.7                   1                   0   \n",
       "3                           61475.5                   0                   0   \n",
       "4                           58285.7                   3                   1   \n",
       "...                             ...                 ...                 ...   \n",
       "1291                        59061.0                 421                   5   \n",
       "1292                       148172.0                   1                   0   \n",
       "1293                       143544.0                   5                   0   \n",
       "1294                       144985.0                   2                   0   \n",
       "1295                       141820.0                 452                   6   \n",
       "\n",
       "      Black Hole Other Count  Mass of Most Massive Black Hole  \\\n",
       "0                          0                        21.994084   \n",
       "1                          0                      5871.062390   \n",
       "2                          0                         5.907700   \n",
       "3                          1                        17.542009   \n",
       "4                          0                        12.388086   \n",
       "...                      ...                              ...   \n",
       "1291                       5                        26.195472   \n",
       "1292                       0                      8141.942800   \n",
       "1293                       0                     14571.972300   \n",
       "1294                       0                      4528.488600   \n",
       "1295                       1                        24.838628   \n",
       "\n",
       "      Fallback Enabled  Central Velocity Dispersion  Unnamed: 22  Unnamed: 23  \n",
       "0                    0                      1.94718       575.27       792.36  \n",
       "1                    0                     10.15090      6338.30     22914.00  \n",
       "2                    1                      5.44959    171360.00     93731.00  \n",
       "3                    0                      4.87986     22645.00     35459.00  \n",
       "4                    1                      4.49099      7351.00     12222.00  \n",
       "...                ...                          ...          ...          ...  \n",
       "1291                 1                      3.74500       114.81       818.16  \n",
       "1292                 0                      9.27809     10004.00     27489.00  \n",
       "1293                 1                     12.35760     11224.00     25443.00  \n",
       "1294                 0                      7.20535      4501.60     15058.00  \n",
       "1295                 1                      5.35266       668.04      3489.30  \n",
       "\n",
       "[1296 rows x 24 columns]"
      ]
     },
     "execution_count": 3,
     "metadata": {},
     "output_type": "execute_result"
    }
   ],
   "source": [
    "data = pd.read_csv(\"simulations.csv\")\n",
    "data"
   ]
  },
  {
   "cell_type": "code",
   "execution_count": 4,
   "metadata": {
    "id": "F8tv2DQQV0n2"
   },
   "outputs": [],
   "source": [
    "data.rename(columns = {'Number of Objects in the Cluster':'#Objects in Cluster',\n",
    "                       'Observational Core Radius':'Ob Core Radius',\n",
    "                       'Observational Half-Light Radius':'Ob Half-Light Radius',\n",
    "                       'Central Surface Brightness Total':'CS Brightness',\n",
    "                       'Half-Mass Relaxation Time':'HM Rel Time',\n",
    "                       'Total Luminosity of Cluster at 12 Gyrs':'TLC at 12 Gyrs',\n",
    "                       'Central surface brightness from King 62 fitting of cumulative luminosity profile from snap-2D.dat':'CS Brightness from K62',\n",
    "                       'Core radius obtained from King 62 fitting of snap-2D.dat':'Core Radius from K62',\n",
    "                       'Half-light radius obtained from King 62 fitting':'Half Radius from K62',\n",
    "                       'Mass of Most Massive Black Hole':'Mass of Most Massive BH'\n",
    "                      }, inplace = True)"
   ]
  },
  {
   "cell_type": "code",
   "execution_count": 5,
   "metadata": {
    "colab": {
     "base_uri": "https://localhost:8080/",
     "height": 540
    },
    "id": "SuQf78vNCV0e",
    "outputId": "0201a2ea-7ec9-409a-bf3d-f1cfc43bfa5b"
   },
   "outputs": [
    {
     "data": {
      "text/html": [
       "<div>\n",
       "<style scoped>\n",
       "    .dataframe tbody tr th:only-of-type {\n",
       "        vertical-align: middle;\n",
       "    }\n",
       "\n",
       "    .dataframe tbody tr th {\n",
       "        vertical-align: top;\n",
       "    }\n",
       "\n",
       "    .dataframe thead th {\n",
       "        text-align: right;\n",
       "    }\n",
       "</style>\n",
       "<table border=\"1\" class=\"dataframe\">\n",
       "  <thead>\n",
       "    <tr style=\"text-align: right;\">\n",
       "      <th></th>\n",
       "      <th>Galactocentric Raidus</th>\n",
       "      <th>Cluster Metallicity</th>\n",
       "      <th>#Objects in Cluster</th>\n",
       "      <th>Cluster Mass</th>\n",
       "      <th>Ob Core Radius</th>\n",
       "      <th>Ob Half-Light Radius</th>\n",
       "      <th>CS Brightness</th>\n",
       "      <th>Binary Fraction</th>\n",
       "      <th>HM Rel Time</th>\n",
       "      <th>TLC at 12 Gyrs</th>\n",
       "      <th>...</th>\n",
       "      <th>CS Brightness from K62</th>\n",
       "      <th>Core Radius from K62</th>\n",
       "      <th>Half Radius from K62</th>\n",
       "      <th>Total luminosity from snap-2D</th>\n",
       "      <th>Single Black Holes</th>\n",
       "      <th>Binary Black Holes</th>\n",
       "      <th>Black Hole Other Count</th>\n",
       "      <th>Mass of Most Massive BH</th>\n",
       "      <th>Fallback Enabled</th>\n",
       "      <th>Central Velocity Dispersion</th>\n",
       "    </tr>\n",
       "  </thead>\n",
       "  <tbody>\n",
       "    <tr>\n",
       "      <th>0</th>\n",
       "      <td>4.483209</td>\n",
       "      <td>0.001</td>\n",
       "      <td>38920</td>\n",
       "      <td>23593.2395</td>\n",
       "      <td>0.381992</td>\n",
       "      <td>3.413317</td>\n",
       "      <td>109.654400</td>\n",
       "      <td>0.399229</td>\n",
       "      <td>885.619718</td>\n",
       "      <td>20229.8993</td>\n",
       "      <td>...</td>\n",
       "      <td>423.668974</td>\n",
       "      <td>1.781371</td>\n",
       "      <td>3.85929</td>\n",
       "      <td>14969.5</td>\n",
       "      <td>0</td>\n",
       "      <td>1</td>\n",
       "      <td>0</td>\n",
       "      <td>21.994084</td>\n",
       "      <td>0</td>\n",
       "      <td>1.94718</td>\n",
       "    </tr>\n",
       "    <tr>\n",
       "      <th>1</th>\n",
       "      <td>4.483209</td>\n",
       "      <td>0.001</td>\n",
       "      <td>505043</td>\n",
       "      <td>164640.2310</td>\n",
       "      <td>0.368883</td>\n",
       "      <td>2.491200</td>\n",
       "      <td>34827.624400</td>\n",
       "      <td>0.099239</td>\n",
       "      <td>3460.547220</td>\n",
       "      <td>77000.7159</td>\n",
       "      <td>...</td>\n",
       "      <td>4073.650913</td>\n",
       "      <td>1.031188</td>\n",
       "      <td>2.54377</td>\n",
       "      <td>55168.4</td>\n",
       "      <td>1</td>\n",
       "      <td>0</td>\n",
       "      <td>0</td>\n",
       "      <td>5871.062390</td>\n",
       "      <td>0</td>\n",
       "      <td>10.15090</td>\n",
       "    </tr>\n",
       "    <tr>\n",
       "      <th>2</th>\n",
       "      <td>4.483209</td>\n",
       "      <td>0.001</td>\n",
       "      <td>479417</td>\n",
       "      <td>158782.2470</td>\n",
       "      <td>0.053349</td>\n",
       "      <td>1.930993</td>\n",
       "      <td>100139.011000</td>\n",
       "      <td>0.130133</td>\n",
       "      <td>2958.528450</td>\n",
       "      <td>73983.4991</td>\n",
       "      <td>...</td>\n",
       "      <td>24778.675830</td>\n",
       "      <td>0.298724</td>\n",
       "      <td>2.03162</td>\n",
       "      <td>54178.7</td>\n",
       "      <td>1</td>\n",
       "      <td>0</td>\n",
       "      <td>0</td>\n",
       "      <td>5.907700</td>\n",
       "      <td>1</td>\n",
       "      <td>5.44959</td>\n",
       "    </tr>\n",
       "    <tr>\n",
       "      <th>3</th>\n",
       "      <td>4.483209</td>\n",
       "      <td>0.001</td>\n",
       "      <td>504171</td>\n",
       "      <td>173094.5800</td>\n",
       "      <td>0.239726</td>\n",
       "      <td>2.193033</td>\n",
       "      <td>13710.088900</td>\n",
       "      <td>0.184856</td>\n",
       "      <td>3949.593890</td>\n",
       "      <td>85496.8882</td>\n",
       "      <td>...</td>\n",
       "      <td>14689.387400</td>\n",
       "      <td>0.435038</td>\n",
       "      <td>2.42598</td>\n",
       "      <td>61475.5</td>\n",
       "      <td>0</td>\n",
       "      <td>0</td>\n",
       "      <td>1</td>\n",
       "      <td>17.542009</td>\n",
       "      <td>0</td>\n",
       "      <td>4.87986</td>\n",
       "    </tr>\n",
       "    <tr>\n",
       "      <th>4</th>\n",
       "      <td>4.483209</td>\n",
       "      <td>0.001</td>\n",
       "      <td>501245</td>\n",
       "      <td>172722.6840</td>\n",
       "      <td>0.458644</td>\n",
       "      <td>2.537746</td>\n",
       "      <td>2589.006420</td>\n",
       "      <td>0.192672</td>\n",
       "      <td>4089.662060</td>\n",
       "      <td>78996.9967</td>\n",
       "      <td>...</td>\n",
       "      <td>6212.542260</td>\n",
       "      <td>0.757504</td>\n",
       "      <td>2.64693</td>\n",
       "      <td>58285.7</td>\n",
       "      <td>3</td>\n",
       "      <td>1</td>\n",
       "      <td>0</td>\n",
       "      <td>12.388086</td>\n",
       "      <td>1</td>\n",
       "      <td>4.49099</td>\n",
       "    </tr>\n",
       "    <tr>\n",
       "      <th>...</th>\n",
       "      <td>...</td>\n",
       "      <td>...</td>\n",
       "      <td>...</td>\n",
       "      <td>...</td>\n",
       "      <td>...</td>\n",
       "      <td>...</td>\n",
       "      <td>...</td>\n",
       "      <td>...</td>\n",
       "      <td>...</td>\n",
       "      <td>...</td>\n",
       "      <td>...</td>\n",
       "      <td>...</td>\n",
       "      <td>...</td>\n",
       "      <td>...</td>\n",
       "      <td>...</td>\n",
       "      <td>...</td>\n",
       "      <td>...</td>\n",
       "      <td>...</td>\n",
       "      <td>...</td>\n",
       "      <td>...</td>\n",
       "      <td>...</td>\n",
       "    </tr>\n",
       "    <tr>\n",
       "      <th>1291</th>\n",
       "      <td>8.961667</td>\n",
       "      <td>0.001</td>\n",
       "      <td>430575</td>\n",
       "      <td>153829.5090</td>\n",
       "      <td>8.186195</td>\n",
       "      <td>11.196129</td>\n",
       "      <td>124.013015</td>\n",
       "      <td>0.084009</td>\n",
       "      <td>17004.436600</td>\n",
       "      <td>87728.4511</td>\n",
       "      <td>...</td>\n",
       "      <td>111.583976</td>\n",
       "      <td>8.542639</td>\n",
       "      <td>12.88920</td>\n",
       "      <td>59061.0</td>\n",
       "      <td>421</td>\n",
       "      <td>5</td>\n",
       "      <td>5</td>\n",
       "      <td>26.195472</td>\n",
       "      <td>1</td>\n",
       "      <td>3.74500</td>\n",
       "    </tr>\n",
       "    <tr>\n",
       "      <th>1292</th>\n",
       "      <td>8.961667</td>\n",
       "      <td>0.001</td>\n",
       "      <td>1148111</td>\n",
       "      <td>378797.8470</td>\n",
       "      <td>0.363009</td>\n",
       "      <td>4.047745</td>\n",
       "      <td>121091.456000</td>\n",
       "      <td>0.049244</td>\n",
       "      <td>7780.207680</td>\n",
       "      <td>208888.6760</td>\n",
       "      <td>...</td>\n",
       "      <td>4941.017507</td>\n",
       "      <td>1.497158</td>\n",
       "      <td>4.21363</td>\n",
       "      <td>148172.0</td>\n",
       "      <td>1</td>\n",
       "      <td>0</td>\n",
       "      <td>0</td>\n",
       "      <td>8141.942800</td>\n",
       "      <td>0</td>\n",
       "      <td>9.27809</td>\n",
       "    </tr>\n",
       "    <tr>\n",
       "      <th>1293</th>\n",
       "      <td>8.961667</td>\n",
       "      <td>0.001</td>\n",
       "      <td>1121134</td>\n",
       "      <td>376044.7900</td>\n",
       "      <td>0.276965</td>\n",
       "      <td>5.093038</td>\n",
       "      <td>50124.732700</td>\n",
       "      <td>0.050766</td>\n",
       "      <td>8518.287010</td>\n",
       "      <td>205882.5110</td>\n",
       "      <td>...</td>\n",
       "      <td>4136.404926</td>\n",
       "      <td>1.325894</td>\n",
       "      <td>5.49906</td>\n",
       "      <td>143544.0</td>\n",
       "      <td>5</td>\n",
       "      <td>0</td>\n",
       "      <td>0</td>\n",
       "      <td>14571.972300</td>\n",
       "      <td>1</td>\n",
       "      <td>12.35760</td>\n",
       "    </tr>\n",
       "    <tr>\n",
       "      <th>1294</th>\n",
       "      <td>8.961667</td>\n",
       "      <td>0.001</td>\n",
       "      <td>1124046</td>\n",
       "      <td>372312.7040</td>\n",
       "      <td>0.876489</td>\n",
       "      <td>6.211617</td>\n",
       "      <td>7679.070830</td>\n",
       "      <td>0.059884</td>\n",
       "      <td>13372.708500</td>\n",
       "      <td>206975.9980</td>\n",
       "      <td>...</td>\n",
       "      <td>3122.623280</td>\n",
       "      <td>1.524092</td>\n",
       "      <td>6.75933</td>\n",
       "      <td>144985.0</td>\n",
       "      <td>2</td>\n",
       "      <td>0</td>\n",
       "      <td>0</td>\n",
       "      <td>4528.488600</td>\n",
       "      <td>0</td>\n",
       "      <td>7.20535</td>\n",
       "    </tr>\n",
       "    <tr>\n",
       "      <th>1295</th>\n",
       "      <td>8.961667</td>\n",
       "      <td>0.001</td>\n",
       "      <td>1060404</td>\n",
       "      <td>358251.7990</td>\n",
       "      <td>4.960723</td>\n",
       "      <td>9.352212</td>\n",
       "      <td>591.695393</td>\n",
       "      <td>0.073547</td>\n",
       "      <td>19822.877400</td>\n",
       "      <td>196080.6450</td>\n",
       "      <td>...</td>\n",
       "      <td>505.785326</td>\n",
       "      <td>6.846472</td>\n",
       "      <td>9.61243</td>\n",
       "      <td>141820.0</td>\n",
       "      <td>452</td>\n",
       "      <td>6</td>\n",
       "      <td>1</td>\n",
       "      <td>24.838628</td>\n",
       "      <td>1</td>\n",
       "      <td>5.35266</td>\n",
       "    </tr>\n",
       "  </tbody>\n",
       "</table>\n",
       "<p>1296 rows × 22 columns</p>\n",
       "</div>"
      ],
      "text/plain": [
       "      Galactocentric Raidus  Cluster Metallicity  #Objects in Cluster  \\\n",
       "0                  4.483209                0.001                38920   \n",
       "1                  4.483209                0.001               505043   \n",
       "2                  4.483209                0.001               479417   \n",
       "3                  4.483209                0.001               504171   \n",
       "4                  4.483209                0.001               501245   \n",
       "...                     ...                  ...                  ...   \n",
       "1291               8.961667                0.001               430575   \n",
       "1292               8.961667                0.001              1148111   \n",
       "1293               8.961667                0.001              1121134   \n",
       "1294               8.961667                0.001              1124046   \n",
       "1295               8.961667                0.001              1060404   \n",
       "\n",
       "      Cluster Mass  Ob Core Radius  Ob Half-Light Radius  CS Brightness  \\\n",
       "0       23593.2395        0.381992              3.413317     109.654400   \n",
       "1      164640.2310        0.368883              2.491200   34827.624400   \n",
       "2      158782.2470        0.053349              1.930993  100139.011000   \n",
       "3      173094.5800        0.239726              2.193033   13710.088900   \n",
       "4      172722.6840        0.458644              2.537746    2589.006420   \n",
       "...            ...             ...                   ...            ...   \n",
       "1291   153829.5090        8.186195             11.196129     124.013015   \n",
       "1292   378797.8470        0.363009              4.047745  121091.456000   \n",
       "1293   376044.7900        0.276965              5.093038   50124.732700   \n",
       "1294   372312.7040        0.876489              6.211617    7679.070830   \n",
       "1295   358251.7990        4.960723              9.352212     591.695393   \n",
       "\n",
       "      Binary Fraction   HM Rel Time  TLC at 12 Gyrs  ...  \\\n",
       "0            0.399229    885.619718      20229.8993  ...   \n",
       "1            0.099239   3460.547220      77000.7159  ...   \n",
       "2            0.130133   2958.528450      73983.4991  ...   \n",
       "3            0.184856   3949.593890      85496.8882  ...   \n",
       "4            0.192672   4089.662060      78996.9967  ...   \n",
       "...               ...           ...             ...  ...   \n",
       "1291         0.084009  17004.436600      87728.4511  ...   \n",
       "1292         0.049244   7780.207680     208888.6760  ...   \n",
       "1293         0.050766   8518.287010     205882.5110  ...   \n",
       "1294         0.059884  13372.708500     206975.9980  ...   \n",
       "1295         0.073547  19822.877400     196080.6450  ...   \n",
       "\n",
       "      CS Brightness from K62  Core Radius from K62  Half Radius from K62  \\\n",
       "0                 423.668974              1.781371               3.85929   \n",
       "1                4073.650913              1.031188               2.54377   \n",
       "2               24778.675830              0.298724               2.03162   \n",
       "3               14689.387400              0.435038               2.42598   \n",
       "4                6212.542260              0.757504               2.64693   \n",
       "...                      ...                   ...                   ...   \n",
       "1291              111.583976              8.542639              12.88920   \n",
       "1292             4941.017507              1.497158               4.21363   \n",
       "1293             4136.404926              1.325894               5.49906   \n",
       "1294             3122.623280              1.524092               6.75933   \n",
       "1295              505.785326              6.846472               9.61243   \n",
       "\n",
       "      Total luminosity from snap-2D  Single Black Holes  Binary Black Holes  \\\n",
       "0                           14969.5                   0                   1   \n",
       "1                           55168.4                   1                   0   \n",
       "2                           54178.7                   1                   0   \n",
       "3                           61475.5                   0                   0   \n",
       "4                           58285.7                   3                   1   \n",
       "...                             ...                 ...                 ...   \n",
       "1291                        59061.0                 421                   5   \n",
       "1292                       148172.0                   1                   0   \n",
       "1293                       143544.0                   5                   0   \n",
       "1294                       144985.0                   2                   0   \n",
       "1295                       141820.0                 452                   6   \n",
       "\n",
       "      Black Hole Other Count  Mass of Most Massive BH  Fallback Enabled  \\\n",
       "0                          0                21.994084                 0   \n",
       "1                          0              5871.062390                 0   \n",
       "2                          0                 5.907700                 1   \n",
       "3                          1                17.542009                 0   \n",
       "4                          0                12.388086                 1   \n",
       "...                      ...                      ...               ...   \n",
       "1291                       5                26.195472                 1   \n",
       "1292                       0              8141.942800                 0   \n",
       "1293                       0             14571.972300                 1   \n",
       "1294                       0              4528.488600                 0   \n",
       "1295                       1                24.838628                 1   \n",
       "\n",
       "      Central Velocity Dispersion  \n",
       "0                         1.94718  \n",
       "1                        10.15090  \n",
       "2                         5.44959  \n",
       "3                         4.87986  \n",
       "4                         4.49099  \n",
       "...                           ...  \n",
       "1291                      3.74500  \n",
       "1292                      9.27809  \n",
       "1293                     12.35760  \n",
       "1294                      7.20535  \n",
       "1295                      5.35266  \n",
       "\n",
       "[1296 rows x 22 columns]"
      ]
     },
     "execution_count": 5,
     "metadata": {},
     "output_type": "execute_result"
    }
   ],
   "source": [
    "data = data.iloc[:,:-2]\n",
    "data"
   ]
  },
  {
   "cell_type": "code",
   "execution_count": 6,
   "metadata": {
    "colab": {
     "base_uri": "https://localhost:8080/",
     "height": 446
    },
    "id": "G_9hpl3ZkklO",
    "outputId": "a0b58129-ab03-4494-e3c7-fa9e5933f241"
   },
   "outputs": [
    {
     "data": {
      "text/html": [
       "<div>\n",
       "<style scoped>\n",
       "    .dataframe tbody tr th:only-of-type {\n",
       "        vertical-align: middle;\n",
       "    }\n",
       "\n",
       "    .dataframe tbody tr th {\n",
       "        vertical-align: top;\n",
       "    }\n",
       "\n",
       "    .dataframe thead th {\n",
       "        text-align: right;\n",
       "    }\n",
       "</style>\n",
       "<table border=\"1\" class=\"dataframe\">\n",
       "  <thead>\n",
       "    <tr style=\"text-align: right;\">\n",
       "      <th></th>\n",
       "      <th>Galactocentric Raidus</th>\n",
       "      <th>Cluster Metallicity</th>\n",
       "      <th>#Objects in Cluster</th>\n",
       "      <th>Cluster Mass</th>\n",
       "      <th>Ob Core Radius</th>\n",
       "      <th>Ob Half-Light Radius</th>\n",
       "      <th>CS Brightness</th>\n",
       "      <th>Binary Fraction</th>\n",
       "      <th>HM Rel Time</th>\n",
       "      <th>TLC at 12 Gyrs</th>\n",
       "      <th>...</th>\n",
       "      <th>CS Brightness from K62</th>\n",
       "      <th>Core Radius from K62</th>\n",
       "      <th>Half Radius from K62</th>\n",
       "      <th>Total luminosity from snap-2D</th>\n",
       "      <th>Single Black Holes</th>\n",
       "      <th>Binary Black Holes</th>\n",
       "      <th>Black Hole Other Count</th>\n",
       "      <th>Mass of Most Massive BH</th>\n",
       "      <th>Fallback Enabled</th>\n",
       "      <th>Central Velocity Dispersion</th>\n",
       "    </tr>\n",
       "  </thead>\n",
       "  <tbody>\n",
       "    <tr>\n",
       "      <th>count</th>\n",
       "      <td>1296.000000</td>\n",
       "      <td>1296.000000</td>\n",
       "      <td>1.296000e+03</td>\n",
       "      <td>1296.000000</td>\n",
       "      <td>1296.000000</td>\n",
       "      <td>1296.000000</td>\n",
       "      <td>1.296000e+03</td>\n",
       "      <td>1296.000000</td>\n",
       "      <td>1.296000e+03</td>\n",
       "      <td>1289.000000</td>\n",
       "      <td>...</td>\n",
       "      <td>1296.000000</td>\n",
       "      <td>1.296000e+03</td>\n",
       "      <td>1.296000e+03</td>\n",
       "      <td>1296.000000</td>\n",
       "      <td>1296.000000</td>\n",
       "      <td>1296.000000</td>\n",
       "      <td>1296.00000</td>\n",
       "      <td>1296.000000</td>\n",
       "      <td>1296.000000</td>\n",
       "      <td>1296.000000</td>\n",
       "    </tr>\n",
       "    <tr>\n",
       "      <th>mean</th>\n",
       "      <td>13.795005</td>\n",
       "      <td>0.006824</td>\n",
       "      <td>3.549600e+05</td>\n",
       "      <td>124605.085965</td>\n",
       "      <td>1.175493</td>\n",
       "      <td>3.704930</td>\n",
       "      <td>5.129919e+04</td>\n",
       "      <td>0.147552</td>\n",
       "      <td>4.190883e+03</td>\n",
       "      <td>63793.263548</td>\n",
       "      <td>...</td>\n",
       "      <td>6085.613178</td>\n",
       "      <td>9.802004e+03</td>\n",
       "      <td>5.625000e+07</td>\n",
       "      <td>43774.503267</td>\n",
       "      <td>18.920525</td>\n",
       "      <td>0.597222</td>\n",
       "      <td>0.68287</td>\n",
       "      <td>2912.647015</td>\n",
       "      <td>0.493827</td>\n",
       "      <td>6.753591</td>\n",
       "    </tr>\n",
       "    <tr>\n",
       "      <th>std</th>\n",
       "      <td>13.747224</td>\n",
       "      <td>0.007798</td>\n",
       "      <td>4.107997e+05</td>\n",
       "      <td>133588.167728</td>\n",
       "      <td>1.996293</td>\n",
       "      <td>2.602061</td>\n",
       "      <td>4.030985e+05</td>\n",
       "      <td>0.112824</td>\n",
       "      <td>3.942686e+03</td>\n",
       "      <td>66876.963919</td>\n",
       "      <td>...</td>\n",
       "      <td>17501.728564</td>\n",
       "      <td>3.379408e+05</td>\n",
       "      <td>2.025000e+09</td>\n",
       "      <td>46748.321403</td>\n",
       "      <td>72.820628</td>\n",
       "      <td>1.651897</td>\n",
       "      <td>1.48263</td>\n",
       "      <td>5930.501850</td>\n",
       "      <td>0.500155</td>\n",
       "      <td>8.186834</td>\n",
       "    </tr>\n",
       "    <tr>\n",
       "      <th>min</th>\n",
       "      <td>0.806069</td>\n",
       "      <td>0.000200</td>\n",
       "      <td>1.680000e+02</td>\n",
       "      <td>202.439378</td>\n",
       "      <td>0.012096</td>\n",
       "      <td>0.369331</td>\n",
       "      <td>1.585988e-01</td>\n",
       "      <td>0.016670</td>\n",
       "      <td>3.410000e-07</td>\n",
       "      <td>42.222069</td>\n",
       "      <td>...</td>\n",
       "      <td>0.000000</td>\n",
       "      <td>-7.107496e+06</td>\n",
       "      <td>0.000000e+00</td>\n",
       "      <td>0.000000</td>\n",
       "      <td>0.000000</td>\n",
       "      <td>0.000000</td>\n",
       "      <td>0.00000</td>\n",
       "      <td>0.000000</td>\n",
       "      <td>0.000000</td>\n",
       "      <td>0.448899</td>\n",
       "    </tr>\n",
       "    <tr>\n",
       "      <th>25%</th>\n",
       "      <td>3.397451</td>\n",
       "      <td>0.001000</td>\n",
       "      <td>4.108925e+04</td>\n",
       "      <td>16928.510175</td>\n",
       "      <td>0.152169</td>\n",
       "      <td>1.986873</td>\n",
       "      <td>2.541000e+02</td>\n",
       "      <td>0.066921</td>\n",
       "      <td>1.250035e+03</td>\n",
       "      <td>8950.770620</td>\n",
       "      <td>...</td>\n",
       "      <td>391.335568</td>\n",
       "      <td>4.870860e-01</td>\n",
       "      <td>2.082772e+00</td>\n",
       "      <td>5499.190000</td>\n",
       "      <td>0.000000</td>\n",
       "      <td>0.000000</td>\n",
       "      <td>0.00000</td>\n",
       "      <td>0.000000</td>\n",
       "      <td>0.000000</td>\n",
       "      <td>1.430718</td>\n",
       "    </tr>\n",
       "    <tr>\n",
       "      <th>50%</th>\n",
       "      <td>9.609443</td>\n",
       "      <td>0.005000</td>\n",
       "      <td>1.324815e+05</td>\n",
       "      <td>59840.253600</td>\n",
       "      <td>0.368593</td>\n",
       "      <td>2.816936</td>\n",
       "      <td>1.387919e+03</td>\n",
       "      <td>0.095694</td>\n",
       "      <td>3.285283e+03</td>\n",
       "      <td>34385.710800</td>\n",
       "      <td>...</td>\n",
       "      <td>1787.208036</td>\n",
       "      <td>7.587923e-01</td>\n",
       "      <td>2.909625e+00</td>\n",
       "      <td>23659.050000</td>\n",
       "      <td>0.000000</td>\n",
       "      <td>0.000000</td>\n",
       "      <td>0.00000</td>\n",
       "      <td>13.090620</td>\n",
       "      <td>0.000000</td>\n",
       "      <td>3.803875</td>\n",
       "    </tr>\n",
       "    <tr>\n",
       "      <th>75%</th>\n",
       "      <td>17.415375</td>\n",
       "      <td>0.006000</td>\n",
       "      <td>5.778370e+05</td>\n",
       "      <td>201688.128500</td>\n",
       "      <td>1.157344</td>\n",
       "      <td>4.678259</td>\n",
       "      <td>1.270077e+04</td>\n",
       "      <td>0.229543</td>\n",
       "      <td>5.381429e+03</td>\n",
       "      <td>104769.469000</td>\n",
       "      <td>...</td>\n",
       "      <td>6039.537321</td>\n",
       "      <td>1.458730e+00</td>\n",
       "      <td>4.965393e+00</td>\n",
       "      <td>71851.200000</td>\n",
       "      <td>1.000000</td>\n",
       "      <td>0.000000</td>\n",
       "      <td>1.00000</td>\n",
       "      <td>2795.206837</td>\n",
       "      <td>1.000000</td>\n",
       "      <td>8.015273</td>\n",
       "    </tr>\n",
       "    <tr>\n",
       "      <th>max</th>\n",
       "      <td>49.995444</td>\n",
       "      <td>0.020000</td>\n",
       "      <td>1.966209e+06</td>\n",
       "      <td>624852.378000</td>\n",
       "      <td>12.913423</td>\n",
       "      <td>17.135980</td>\n",
       "      <td>1.060000e+07</td>\n",
       "      <td>0.726190</td>\n",
       "      <td>2.368620e+04</td>\n",
       "      <td>305503.452000</td>\n",
       "      <td>...</td>\n",
       "      <td>413419.000000</td>\n",
       "      <td>6.931186e+06</td>\n",
       "      <td>7.290000e+10</td>\n",
       "      <td>208648.000000</td>\n",
       "      <td>789.000000</td>\n",
       "      <td>15.000000</td>\n",
       "      <td>15.00000</td>\n",
       "      <td>43030.183000</td>\n",
       "      <td>1.000000</td>\n",
       "      <td>51.384800</td>\n",
       "    </tr>\n",
       "  </tbody>\n",
       "</table>\n",
       "<p>8 rows × 22 columns</p>\n",
       "</div>"
      ],
      "text/plain": [
       "       Galactocentric Raidus  Cluster Metallicity  #Objects in Cluster  \\\n",
       "count            1296.000000          1296.000000         1.296000e+03   \n",
       "mean               13.795005             0.006824         3.549600e+05   \n",
       "std                13.747224             0.007798         4.107997e+05   \n",
       "min                 0.806069             0.000200         1.680000e+02   \n",
       "25%                 3.397451             0.001000         4.108925e+04   \n",
       "50%                 9.609443             0.005000         1.324815e+05   \n",
       "75%                17.415375             0.006000         5.778370e+05   \n",
       "max                49.995444             0.020000         1.966209e+06   \n",
       "\n",
       "        Cluster Mass  Ob Core Radius  Ob Half-Light Radius  CS Brightness  \\\n",
       "count    1296.000000     1296.000000           1296.000000   1.296000e+03   \n",
       "mean   124605.085965        1.175493              3.704930   5.129919e+04   \n",
       "std    133588.167728        1.996293              2.602061   4.030985e+05   \n",
       "min       202.439378        0.012096              0.369331   1.585988e-01   \n",
       "25%     16928.510175        0.152169              1.986873   2.541000e+02   \n",
       "50%     59840.253600        0.368593              2.816936   1.387919e+03   \n",
       "75%    201688.128500        1.157344              4.678259   1.270077e+04   \n",
       "max    624852.378000       12.913423             17.135980   1.060000e+07   \n",
       "\n",
       "       Binary Fraction   HM Rel Time  TLC at 12 Gyrs  ...  \\\n",
       "count      1296.000000  1.296000e+03     1289.000000  ...   \n",
       "mean          0.147552  4.190883e+03    63793.263548  ...   \n",
       "std           0.112824  3.942686e+03    66876.963919  ...   \n",
       "min           0.016670  3.410000e-07       42.222069  ...   \n",
       "25%           0.066921  1.250035e+03     8950.770620  ...   \n",
       "50%           0.095694  3.285283e+03    34385.710800  ...   \n",
       "75%           0.229543  5.381429e+03   104769.469000  ...   \n",
       "max           0.726190  2.368620e+04   305503.452000  ...   \n",
       "\n",
       "       CS Brightness from K62  Core Radius from K62  Half Radius from K62  \\\n",
       "count             1296.000000          1.296000e+03          1.296000e+03   \n",
       "mean              6085.613178          9.802004e+03          5.625000e+07   \n",
       "std              17501.728564          3.379408e+05          2.025000e+09   \n",
       "min                  0.000000         -7.107496e+06          0.000000e+00   \n",
       "25%                391.335568          4.870860e-01          2.082772e+00   \n",
       "50%               1787.208036          7.587923e-01          2.909625e+00   \n",
       "75%               6039.537321          1.458730e+00          4.965393e+00   \n",
       "max             413419.000000          6.931186e+06          7.290000e+10   \n",
       "\n",
       "       Total luminosity from snap-2D  Single Black Holes  Binary Black Holes  \\\n",
       "count                    1296.000000         1296.000000         1296.000000   \n",
       "mean                    43774.503267           18.920525            0.597222   \n",
       "std                     46748.321403           72.820628            1.651897   \n",
       "min                         0.000000            0.000000            0.000000   \n",
       "25%                      5499.190000            0.000000            0.000000   \n",
       "50%                     23659.050000            0.000000            0.000000   \n",
       "75%                     71851.200000            1.000000            0.000000   \n",
       "max                    208648.000000          789.000000           15.000000   \n",
       "\n",
       "       Black Hole Other Count  Mass of Most Massive BH  Fallback Enabled  \\\n",
       "count              1296.00000              1296.000000       1296.000000   \n",
       "mean                  0.68287              2912.647015          0.493827   \n",
       "std                   1.48263              5930.501850          0.500155   \n",
       "min                   0.00000                 0.000000          0.000000   \n",
       "25%                   0.00000                 0.000000          0.000000   \n",
       "50%                   0.00000                13.090620          0.000000   \n",
       "75%                   1.00000              2795.206837          1.000000   \n",
       "max                  15.00000             43030.183000          1.000000   \n",
       "\n",
       "       Central Velocity Dispersion  \n",
       "count                  1296.000000  \n",
       "mean                      6.753591  \n",
       "std                       8.186834  \n",
       "min                       0.448899  \n",
       "25%                       1.430718  \n",
       "50%                       3.803875  \n",
       "75%                       8.015273  \n",
       "max                      51.384800  \n",
       "\n",
       "[8 rows x 22 columns]"
      ]
     },
     "execution_count": 6,
     "metadata": {},
     "output_type": "execute_result"
    }
   ],
   "source": [
    "data.describe()"
   ]
  },
  {
   "cell_type": "code",
   "execution_count": 7,
   "metadata": {
    "colab": {
     "base_uri": "https://localhost:8080/"
    },
    "id": "O9NJK8VqF3pC",
    "outputId": "b0695eee-efe1-47f6-c5a8-b1c14b7ab39d"
   },
   "outputs": [
    {
     "data": {
      "text/plain": [
       "Galactocentric Raidus             0\n",
       "Cluster Metallicity               0\n",
       "#Objects in Cluster               0\n",
       "Cluster Mass                      0\n",
       "Ob Core Radius                    0\n",
       "Ob Half-Light Radius              0\n",
       "CS Brightness                     0\n",
       "Binary Fraction                   0\n",
       "HM Rel Time                       0\n",
       "TLC at 12 Gyrs                    7\n",
       "Central Velocity Dispersion 3d    0\n",
       "Total V-band luminosity           0\n",
       "CS Brightness from K62            0\n",
       "Core Radius from K62              0\n",
       "Half Radius from K62              0\n",
       "Total luminosity from snap-2D     0\n",
       "Single Black Holes                0\n",
       "Binary Black Holes                0\n",
       "Black Hole Other Count            0\n",
       "Mass of Most Massive BH           0\n",
       "Fallback Enabled                  0\n",
       "Central Velocity Dispersion       0\n",
       "dtype: int64"
      ]
     },
     "execution_count": 7,
     "metadata": {},
     "output_type": "execute_result"
    }
   ],
   "source": [
    "data.isnull().sum()"
   ]
  },
  {
   "cell_type": "markdown",
   "metadata": {
    "id": "Hw6jFYKFOEC5"
   },
   "source": [
    "## Determining most important features"
   ]
  },
  {
   "cell_type": "code",
   "execution_count": 8,
   "metadata": {
    "colab": {
     "base_uri": "https://localhost:8080/"
    },
    "id": "10CVXCFeODnZ",
    "outputId": "0ee71d23-7922-4a84-d55d-62b24dbe3cf6"
   },
   "outputs": [
    {
     "data": {
      "text/plain": [
       "ExtraTreesRegressor()"
      ]
     },
     "execution_count": 8,
     "metadata": {},
     "output_type": "execute_result"
    }
   ],
   "source": [
    "from sklearn.ensemble import ExtraTreesRegressor\n",
    "import matplotlib.pyplot as plt\n",
    "\n",
    "\n",
    "YData = data['Single Black Holes']\n",
    "XData = data.drop(['Single Black Holes','TLC at 12 Gyrs'], axis=1)\n",
    "model = ExtraTreesRegressor()\n",
    "model.fit(XData,YData)"
   ]
  },
  {
   "cell_type": "code",
   "execution_count": 9,
   "metadata": {
    "colab": {
     "base_uri": "https://localhost:8080/",
     "height": 265
    },
    "id": "JKTDAReTOfXq",
    "outputId": "e2419b65-016d-4710-b6d9-358c3ebb74fc"
   },
   "outputs": [
    {
     "data": {
      "image/png": "[encoded data removed]",
      "text/plain": [
       "<Figure size 432x288 with 1 Axes>"
      ]
     },
     "metadata": {
      "needs_background": "light"
     },
     "output_type": "display_data"
    }
   ],
   "source": [
    "feat_importances = pd.Series(model.feature_importances_, index=XData.columns)\n",
    "feat_importances.nlargest(12).plot(kind='barh')\n",
    "plt.show()"
   ]
  },
  {
   "cell_type": "markdown",
   "metadata": {
    "id": "CeLpsoBp6VAh"
   },
   "source": [
    "## Splitting data into train and test dataset"
   ]
  },
  {
   "cell_type": "code",
   "execution_count": 10,
   "metadata": {
    "colab": {
     "base_uri": "https://localhost:8080/"
    },
    "id": "KDlm12OTCX0L",
    "outputId": "10ca9c51-ea46-4532-a7ac-bb03ce6def74"
   },
   "outputs": [
    {
     "name": "stdout",
     "output_type": "stream",
     "text": [
      "      Galactocentric Raidus  Cluster Metallicity  #Objects in Cluster  \\\n",
      "0                  4.483209                0.001                38920   \n",
      "1                  4.483209                0.001               505043   \n",
      "2                  4.483209                0.001               479417   \n",
      "3                  4.483209                0.001               504171   \n",
      "4                  4.483209                0.001               501245   \n",
      "...                     ...                  ...                  ...   \n",
      "1291               8.961667                0.001               430575   \n",
      "1292               8.961667                0.001              1148111   \n",
      "1293               8.961667                0.001              1121134   \n",
      "1294               8.961667                0.001              1124046   \n",
      "1295               8.961667                0.001              1060404   \n",
      "\n",
      "      Cluster Mass  Ob Core Radius  Ob Half-Light Radius  CS Brightness  \\\n",
      "0       23593.2395        0.381992              3.413317     109.654400   \n",
      "1      164640.2310        0.368883              2.491200   34827.624400   \n",
      "2      158782.2470        0.053349              1.930993  100139.011000   \n",
      "3      173094.5800        0.239726              2.193033   13710.088900   \n",
      "4      172722.6840        0.458644              2.537746    2589.006420   \n",
      "...            ...             ...                   ...            ...   \n",
      "1291   153829.5090        8.186195             11.196129     124.013015   \n",
      "1292   378797.8470        0.363009              4.047745  121091.456000   \n",
      "1293   376044.7900        0.276965              5.093038   50124.732700   \n",
      "1294   372312.7040        0.876489              6.211617    7679.070830   \n",
      "1295   358251.7990        4.960723              9.352212     591.695393   \n",
      "\n",
      "      Binary Fraction   HM Rel Time  Central Velocity Dispersion 3d  \\\n",
      "0            0.399229    885.619718                        1.916352   \n",
      "1            0.099239   3460.547220                        6.417497   \n",
      "2            0.130133   2958.528450                        8.174782   \n",
      "3            0.184856   3949.593890                        5.935419   \n",
      "4            0.192672   4089.662060                        7.867628   \n",
      "...               ...           ...                             ...   \n",
      "1291         0.084009  17004.436600                        3.515798   \n",
      "1292         0.049244   7780.207680                        7.931974   \n",
      "1293         0.050766   8518.287010                        7.770654   \n",
      "1294         0.059884  13372.708500                        6.273728   \n",
      "1295         0.073547  19822.877400                        4.075810   \n",
      "\n",
      "      Total V-band luminosity  CS Brightness from K62  Core Radius from K62  \\\n",
      "0                     14969.5              423.668974              1.781371   \n",
      "1                     55168.4             4073.650913              1.031188   \n",
      "2                     54178.7            24778.675830              0.298724   \n",
      "3                     61475.5            14689.387400              0.435038   \n",
      "4                     58285.7             6212.542260              0.757504   \n",
      "...                       ...                     ...                   ...   \n",
      "1291                  59061.0              111.583976              8.542639   \n",
      "1292                 148172.0             4941.017507              1.497158   \n",
      "1293                 143544.0             4136.404926              1.325894   \n",
      "1294                 144985.0             3122.623280              1.524092   \n",
      "1295                 141820.0              505.785326              6.846472   \n",
      "\n",
      "      Half Radius from K62  Total luminosity from snap-2D  Binary Black Holes  \\\n",
      "0                  3.85929                        14969.5                   1   \n",
      "1                  2.54377                        55168.4                   0   \n",
      "2                  2.03162                        54178.7                   0   \n",
      "3                  2.42598                        61475.5                   0   \n",
      "4                  2.64693                        58285.7                   1   \n",
      "...                    ...                            ...                 ...   \n",
      "1291              12.88920                        59061.0                   5   \n",
      "1292               4.21363                       148172.0                   0   \n",
      "1293               5.49906                       143544.0                   0   \n",
      "1294               6.75933                       144985.0                   0   \n",
      "1295               9.61243                       141820.0                   6   \n",
      "\n",
      "      Black Hole Other Count  Mass of Most Massive BH  Fallback Enabled  \\\n",
      "0                          0                21.994084                 0   \n",
      "1                          0              5871.062390                 0   \n",
      "2                          0                 5.907700                 1   \n",
      "3                          1                17.542009                 0   \n",
      "4                          0                12.388086                 1   \n",
      "...                      ...                      ...               ...   \n",
      "1291                       5                26.195472                 1   \n",
      "1292                       0              8141.942800                 0   \n",
      "1293                       0             14571.972300                 1   \n",
      "1294                       0              4528.488600                 0   \n",
      "1295                       1                24.838628                 1   \n",
      "\n",
      "      Central Velocity Dispersion  \n",
      "0                         1.94718  \n",
      "1                        10.15090  \n",
      "2                         5.44959  \n",
      "3                         4.87986  \n",
      "4                         4.49099  \n",
      "...                           ...  \n",
      "1291                      3.74500  \n",
      "1292                      9.27809  \n",
      "1293                     12.35760  \n",
      "1294                      7.20535  \n",
      "1295                      5.35266  \n",
      "\n",
      "[1296 rows x 20 columns]\n"
     ]
    },
    {
     "data": {
      "text/plain": [
       "(array([[4.48320946e+00, 1.00000000e-03, 3.89200000e+04, ...,\n",
       "         2.19940839e+01, 0.00000000e+00, 1.94718000e+00],\n",
       "        [4.48320946e+00, 1.00000000e-03, 5.05043000e+05, ...,\n",
       "         5.87106239e+03, 0.00000000e+00, 1.01509000e+01],\n",
       "        [4.48320946e+00, 1.00000000e-03, 4.79417000e+05, ...,\n",
       "         5.90770021e+00, 1.00000000e+00, 5.44959000e+00],\n",
       "        ...,\n",
       "        [8.96166740e+00, 1.00000000e-03, 1.12113400e+06, ...,\n",
       "         1.45719723e+04, 1.00000000e+00, 1.23576000e+01],\n",
       "        [8.96166740e+00, 1.00000000e-03, 1.12404600e+06, ...,\n",
       "         4.52848860e+03, 0.00000000e+00, 7.20535000e+00],\n",
       "        [8.96166740e+00, 1.00000000e-03, 1.06040400e+06, ...,\n",
       "         2.48386276e+01, 1.00000000e+00, 5.35266000e+00]]),\n",
       " array([[  0],\n",
       "        [  1],\n",
       "        [  1],\n",
       "        ...,\n",
       "        [  5],\n",
       "        [  2],\n",
       "        [452]], dtype=int64))"
      ]
     },
     "execution_count": 10,
     "metadata": {},
     "output_type": "execute_result"
    }
   ],
   "source": [
    "# XData = XData.filter(['CS Brightness from K62','CS Brightness','Core radius from K62','Cluster Mass','#Objects in Cluster','Central Velocity Dispersion 3d',\n",
    "#               'Ob Half-Light Radius','Binary Fraction','Total luminosity from snap-2D','Total V-band luminosity','Ob Core Radius','HM Rel Time',\n",
    "#               'Galactocentric Radius','Half Radius from K62'],axis=1)\n",
    "print(XData)\n",
    "XData = np.array(XData)\n",
    "YData = np.array(YData).reshape(-1,1)\n",
    "XData, YData"
   ]
  },
  {
   "cell_type": "code",
   "execution_count": 11,
   "metadata": {
    "colab": {
     "base_uri": "https://localhost:8080/"
    },
    "id": "A-1JHtONEzNJ",
    "outputId": "22f61e4c-9ca5-47ca-cb89-4c28332ad69a"
   },
   "outputs": [
    {
     "data": {
      "text/plain": [
       "((972, 20), (972, 1), (324, 20), (324, 1))"
      ]
     },
     "execution_count": 11,
     "metadata": {},
     "output_type": "execute_result"
    }
   ],
   "source": [
    "from sklearn.model_selection import train_test_split\n",
    "from sklearn.preprocessing import StandardScaler\n",
    "scaler_x = StandardScaler()\n",
    "scaler_y = StandardScaler()\n",
    "\n",
    "X_train, X_test, Y_train, Y_test = train_test_split(XData, YData, test_size = 0.25)\n",
    "scaler_x.fit(X_train)\n",
    "X_train_scaled = scaler_x.transform(X_train)\n",
    "scaler_x.fit(X_test)\n",
    "X_test_scaled = scaler_x.transform(X_test)\n",
    "X_train_scaled = np.array(X_train_scaled)\n",
    "X_test_scaled = np.array(X_test_scaled)\n",
    "# scaler_y.fit(Y_train)\n",
    "# Y_train_scaled = scaler_y.transform(Y_train)\n",
    "# scaler_y.fit(Y_test)\n",
    "# Y_test_scaled = scaler_y.transform(Y_test)\n",
    "\n",
    "X_train.shape, Y_train.shape, X_test.shape,Y_test.shape"
   ]
  },
  {
   "cell_type": "markdown",
   "metadata": {
    "id": "1pGAyFKPLYIj"
   },
   "source": [
    "## Linear Regression"
   ]
  },
  {
   "cell_type": "code",
   "execution_count": 12,
   "metadata": {
    "colab": {
     "base_uri": "https://localhost:8080/"
    },
    "id": "_BNAUj54Hseu",
    "outputId": "e3d745d0-a44e-4f16-fa83-2dc6267c7fdc"
   },
   "outputs": [
    {
     "data": {
      "text/plain": [
       "array([ 6.65445144e-01, -6.78559133e+07,  3.64300843e-01,  5.91449585e-01,\n",
       "        5.00066434e-01, -2.36218086e+17])"
      ]
     },
     "execution_count": 12,
     "metadata": {},
     "output_type": "execute_result"
    }
   ],
   "source": [
    "from sklearn.linear_model import LinearRegression\n",
    "from sklearn.model_selection import cross_val_score\n",
    "from sklearn.metrics import r2_score\n",
    "lin_reg = LinearRegression()\n",
    "lm = LinearRegression()\n",
    "scores = cross_val_score(lm, X_train, Y_train, scoring='r2', cv=6)\n",
    "scores \n"
   ]
  },
  {
   "cell_type": "code",
   "execution_count": 13,
   "metadata": {
    "colab": {
     "base_uri": "https://localhost:8080/"
    },
    "id": "1k6hNJ9C6fxz",
    "outputId": "a0bbf2b8-5768-4eb5-e95d-258eda34a609",
    "scrolled": true
   },
   "outputs": [
    {
     "name": "stdout",
     "output_type": "stream",
     "text": [
      "R2_score: -6604038331914244.0\n"
     ]
    }
   ],
   "source": [
    "lin_reg.fit(X_train_scaled,Y_train)\n",
    "y_pred_l = lin_reg.predict(X_test)\n",
    "print(\"R2_score:\",r2_score(Y_test,y_pred_l))"
   ]
  },
  {
   "cell_type": "code",
   "execution_count": 14,
   "metadata": {
    "colab": {
     "base_uri": "https://localhost:8080/",
     "height": 276
    },
    "id": "YRG_NO1lH_6x",
    "outputId": "d85e2cf2-bfdb-49b0-8f76-2a77581baec7",
    "scrolled": false
   },
   "outputs": [
    {
     "data": {
      "image/png": "[encoded data removed]",
      "text/plain": [
       "<Figure size 432x288 with 1 Axes>"
      ]
     },
     "metadata": {
      "needs_background": "light"
     },
     "output_type": "display_data"
    }
   ],
   "source": [
    "lin_reg.fit(X_train_scaled, Y_train)\n",
    "y_pred_l = lin_reg.predict(X_test_scaled)\n",
    "\n",
    "# Sort the indices based on Y_test values\n",
    "sorted_indices = np.argsort(Y_test.flatten())\n",
    "\n",
    "# Plot the organized graph\n",
    "plt.plot(Y_test[sorted_indices], y_pred_l[sorted_indices], color='b',linestyle='--')\n",
    "plt.xlabel(\"True Values\")\n",
    "plt.ylabel(\"Predicted Values\")\n",
    "plt.title(\"Linear Regression: True vs Predicted Values\")\n",
    "plt.show()\n"
   ]
  },
  {
   "cell_type": "code",
   "execution_count": 15,
   "metadata": {
    "colab": {
     "base_uri": "https://localhost:8080/"
    },
    "id": "lOu40btFNC4w",
    "outputId": "804bbf4d-5976-40e8-b4ff-84195446c166"
   },
   "outputs": [
    {
     "name": "stdout",
     "output_type": "stream",
     "text": [
      "Accuracy: -4.281207645247241e+19\n",
      "MAE: 28782.642473775257\n",
      "MSE: 11480115553.43361\n",
      "RMSE: 107145.3011262445\n"
     ]
    }
   ],
   "source": [
    "from sklearn.metrics import mean_absolute_error,mean_squared_error, mean_absolute_percentage_error\n",
    "  \n",
    "mae = mean_absolute_error(y_true=Y_test,y_pred=y_pred_l)\n",
    "#squared True returns MSE value, False returns RMSE value.\n",
    "mse = mean_squared_error(y_true=Y_test,y_pred=y_pred_l) #default=True\n",
    "rmse = mean_squared_error(y_true=Y_test,y_pred=y_pred_l,squared=False)\n",
    "mape = mean_absolute_percentage_error(y_true=Y_test,y_pred=y_pred_l)\n",
    "print(\"Accuracy:\",1-mape)\n",
    "print(\"MAE:\",mae)\n",
    "print(\"MSE:\",mse)\n",
    "print(\"RMSE:\",rmse)"
   ]
  },
  {
   "cell_type": "markdown",
   "metadata": {
    "id": "OmzRjxyLMl0v"
   },
   "source": [
    "## Random Forest Regressor"
   ]
  },
  {
   "cell_type": "code",
   "execution_count": 16,
   "metadata": {
    "colab": {
     "base_uri": "https://localhost:8080/"
    },
    "id": "KONTtLMSNG1r",
    "outputId": "6498f696-a39b-49a9-cf4e-5a0706033ce3"
   },
   "outputs": [
    {
     "name": "stderr",
     "output_type": "stream",
     "text": [
      "C:\\Users\\mihir\\anaconda3\\lib\\site-packages\\sklearn\\model_selection\\_validation.py:598: DataConversionWarning: A column-vector y was passed when a 1d array was expected. Please change the shape of y to (n_samples,), for example using ravel().\n",
      "  estimator.fit(X_train, y_train, **fit_params)\n",
      "C:\\Users\\mihir\\anaconda3\\lib\\site-packages\\sklearn\\model_selection\\_validation.py:598: DataConversionWarning: A column-vector y was passed when a 1d array was expected. Please change the shape of y to (n_samples,), for example using ravel().\n",
      "  estimator.fit(X_train, y_train, **fit_params)\n",
      "C:\\Users\\mihir\\anaconda3\\lib\\site-packages\\sklearn\\model_selection\\_validation.py:598: DataConversionWarning: A column-vector y was passed when a 1d array was expected. Please change the shape of y to (n_samples,), for example using ravel().\n",
      "  estimator.fit(X_train, y_train, **fit_params)\n",
      "C:\\Users\\mihir\\anaconda3\\lib\\site-packages\\sklearn\\model_selection\\_validation.py:598: DataConversionWarning: A column-vector y was passed when a 1d array was expected. Please change the shape of y to (n_samples,), for example using ravel().\n",
      "  estimator.fit(X_train, y_train, **fit_params)\n",
      "C:\\Users\\mihir\\anaconda3\\lib\\site-packages\\sklearn\\model_selection\\_validation.py:598: DataConversionWarning: A column-vector y was passed when a 1d array was expected. Please change the shape of y to (n_samples,), for example using ravel().\n",
      "  estimator.fit(X_train, y_train, **fit_params)\n",
      "C:\\Users\\mihir\\anaconda3\\lib\\site-packages\\sklearn\\model_selection\\_validation.py:598: DataConversionWarning: A column-vector y was passed when a 1d array was expected. Please change the shape of y to (n_samples,), for example using ravel().\n",
      "  estimator.fit(X_train, y_train, **fit_params)\n"
     ]
    },
    {
     "data": {
      "text/plain": [
       "array([0.75595377, 0.79642549, 0.75664255, 0.85961731, 0.72545989,\n",
       "       0.78362359])"
      ]
     },
     "execution_count": 16,
     "metadata": {},
     "output_type": "execute_result"
    }
   ],
   "source": [
    "from sklearn.ensemble import RandomForestRegressor\n",
    "regr = RandomForestRegressor(max_depth=25, random_state=0,n_estimators = 80,max_features=\"auto\")\n",
    "scores = cross_val_score(regr, X_train, Y_train, scoring='r2', cv=6)\n",
    "scores"
   ]
  },
  {
   "cell_type": "code",
   "execution_count": 17,
   "metadata": {
    "colab": {
     "base_uri": "https://localhost:8080/"
    },
    "id": "RfgcTiXE7a0T",
    "outputId": "f9598dff-2476-437a-d0bb-aba5bf856100"
   },
   "outputs": [
    {
     "name": "stderr",
     "output_type": "stream",
     "text": [
      "C:\\Users\\mihir\\AppData\\Local\\Temp/ipykernel_25152/3387164560.py:1: DataConversionWarning: A column-vector y was passed when a 1d array was expected. Please change the shape of y to (n_samples,), for example using ravel().\n",
      "  regr.fit(X_train, Y_train)\n"
     ]
    },
    {
     "name": "stdout",
     "output_type": "stream",
     "text": [
      "R2_score: 0.6461571341765198\n"
     ]
    }
   ],
   "source": [
    "regr.fit(X_train, Y_train)\n",
    "y_pred_rf = regr.predict(X_test)\n",
    "print(\"R2_score:\",r2_score(Y_test,y_pred_rf))"
   ]
  },
  {
   "cell_type": "code",
   "execution_count": 18,
   "metadata": {
    "colab": {
     "base_uri": "https://localhost:8080/",
     "height": 265
    },
    "id": "pv2QLQNFY1zn",
    "outputId": "9ebc7e35-492d-4f29-f7a3-e8715da9eb74"
   },
   "outputs": [
    {
     "data": {
      "image/png": "[encoded data removed]",
      "text/plain": [
       "<Figure size 432x288 with 1 Axes>"
      ]
     },
     "metadata": {
      "needs_background": "light"
     },
     "output_type": "display_data"
    }
   ],
   "source": [
    "# Plot the organized graph\n",
    "plt.plot(Y_test[sorted_indices], y_pred_rf[sorted_indices], color='b',linestyle='--',label='Random Forest Regrssor')\n",
    "plt.xlabel(\"True Values\")\n",
    "plt.ylabel(\"Predicted Values\")\n",
    "plt.title(\"Random Forest Regressor: True vs Predicted Values\")\n",
    "plt.show()\n"
   ]
  },
  {
   "cell_type": "code",
   "execution_count": 19,
   "metadata": {
    "colab": {
     "base_uri": "https://localhost:8080/"
    },
    "id": "H1MdyRUFZyRl",
    "outputId": "6791edae-50e0-472a-a0dd-2290e36663bf"
   },
   "outputs": [
    {
     "name": "stdout",
     "output_type": "stream",
     "text": [
      "MAE: 8.886998456790122\n",
      "MSE: 1185.3206939621912\n",
      "RMSE: 34.42848666383974\n"
     ]
    }
   ],
   "source": [
    "mae = mean_absolute_error(y_true=Y_test,y_pred=y_pred_rf)\n",
    "#squared True returns MSE value, False returns RMSE value.\n",
    "mse = mean_squared_error(y_true=Y_test,y_pred=y_pred_rf) #default=True\n",
    "rmse = mean_squared_error(y_true=Y_test,y_pred=y_pred_rf,squared=False)\n",
    "print(\"MAE:\",mae)\n",
    "print(\"MSE:\",mse)\n",
    "print(\"RMSE:\",rmse)"
   ]
  },
  {
   "cell_type": "markdown",
   "metadata": {
    "id": "XcW8cX5wjuXJ"
   },
   "source": [
    "### Hyperparamter tuning with RandomSearchCV"
   ]
  },
  {
   "cell_type": "code",
   "execution_count": 20,
   "metadata": {
    "id": "gh-Wj2i3jyAl"
   },
   "outputs": [],
   "source": [
    "from sklearn.model_selection import RandomizedSearchCV\n",
    "\n",
    "# Number of trees in random forest\n",
    "n_estimators = [int(x) for x in np.linspace(start = 200, stop = 2000, num = 10)]\n",
    "# Number of features to consider at every split\n",
    "max_features = ['auto', 'sqrt']\n",
    "# Maximum number of levels in tree\n",
    "max_depth = [int(x) for x in np.linspace(10, 110, num = 11)]\n",
    "max_depth.append(None)\n",
    "# Minimum number of samples required to split a node\n",
    "min_samples_split = [2, 5, 10]\n",
    "# Minimum number of samples required at each leaf node\n",
    "min_samples_leaf = [1, 2, 4]\n",
    "# Method of selecting samples for training each tree\n",
    "bootstrap = [True, False]\n",
    "# Create the random grid\n",
    "random_grid = {'n_estimators': n_estimators,\n",
    "               'max_features': max_features,\n",
    "               'max_depth': max_depth,\n",
    "               'min_samples_split': min_samples_split,\n",
    "               'min_samples_leaf': min_samples_leaf,\n",
    "               'bootstrap': bootstrap}"
   ]
  },
  {
   "cell_type": "code",
   "execution_count": 21,
   "metadata": {
    "colab": {
     "base_uri": "https://localhost:8080/"
    },
    "id": "mOA7XEcbkL_z",
    "outputId": "7c328c7a-b720-42ff-a825-fc986cd85ad8"
   },
   "outputs": [
    {
     "name": "stdout",
     "output_type": "stream",
     "text": [
      "Fitting 3 folds for each of 100 candidates, totalling 300 fits\n"
     ]
    },
    {
     "name": "stderr",
     "output_type": "stream",
     "text": [
      "C:\\Users\\mihir\\anaconda3\\lib\\site-packages\\sklearn\\model_selection\\_search.py:880: DataConversionWarning: A column-vector y was passed when a 1d array was expected. Please change the shape of y to (n_samples,), for example using ravel().\n",
      "  self.best_estimator_.fit(X, y, **fit_params)\n"
     ]
    },
    {
     "data": {
      "text/plain": [
       "RandomizedSearchCV(cv=3, estimator=RandomForestRegressor(), n_iter=100,\n",
       "                   n_jobs=-1,\n",
       "                   param_distributions={'bootstrap': [True, False],\n",
       "                                        'max_depth': [10, 20, 30, 40, 50, 60,\n",
       "                                                      70, 80, 90, 100, 110,\n",
       "                                                      None],\n",
       "                                        'max_features': ['auto', 'sqrt'],\n",
       "                                        'min_samples_leaf': [1, 2, 4],\n",
       "                                        'min_samples_split': [2, 5, 10],\n",
       "                                        'n_estimators': [200, 400, 600, 800,\n",
       "                                                         1000, 1200, 1400, 1600,\n",
       "                                                         1800, 2000]},\n",
       "                   random_state=42, verbose=2)"
      ]
     },
     "execution_count": 21,
     "metadata": {},
     "output_type": "execute_result"
    }
   ],
   "source": [
    "# Use the random grid to search for best hyperparameters\n",
    "# First create the base model to tune\n",
    "rf = RandomForestRegressor()\n",
    "# Random search of parameters, using 3 fold cross validation, \n",
    "# search across 100 different combinations, and use all available cores\n",
    "rf_random = RandomizedSearchCV(estimator = rf, param_distributions = random_grid, n_iter = 100, cv = 3, verbose=2, random_state=42, n_jobs = -1)\n",
    "# Fit the random search model\n",
    "rf_random.fit(X_train, Y_train)"
   ]
  },
  {
   "cell_type": "code",
   "execution_count": 22,
   "metadata": {
    "colab": {
     "base_uri": "https://localhost:8080/"
    },
    "id": "B68n-MuLk-k7",
    "outputId": "6ae8df64-b9e3-4167-85c6-d568db062f2c"
   },
   "outputs": [
    {
     "data": {
      "text/plain": [
       "{'n_estimators': 400,\n",
       " 'min_samples_split': 2,\n",
       " 'min_samples_leaf': 1,\n",
       " 'max_features': 'sqrt',\n",
       " 'max_depth': None,\n",
       " 'bootstrap': False}"
      ]
     },
     "execution_count": 22,
     "metadata": {},
     "output_type": "execute_result"
    }
   ],
   "source": [
    "rf_random.best_params_"
   ]
  },
  {
   "cell_type": "code",
   "execution_count": 23,
   "metadata": {
    "colab": {
     "base_uri": "https://localhost:8080/"
    },
    "id": "daH9fJbsk_m7",
    "outputId": "4bb53c9a-8d82-4319-ee8b-cfa7e9be2c61"
   },
   "outputs": [
    {
     "name": "stderr",
     "output_type": "stream",
     "text": [
      "C:\\Users\\mihir\\anaconda3\\lib\\site-packages\\sklearn\\model_selection\\_validation.py:598: DataConversionWarning: A column-vector y was passed when a 1d array was expected. Please change the shape of y to (n_samples,), for example using ravel().\n",
      "  estimator.fit(X_train, y_train, **fit_params)\n",
      "C:\\Users\\mihir\\anaconda3\\lib\\site-packages\\sklearn\\model_selection\\_validation.py:598: DataConversionWarning: A column-vector y was passed when a 1d array was expected. Please change the shape of y to (n_samples,), for example using ravel().\n",
      "  estimator.fit(X_train, y_train, **fit_params)\n",
      "C:\\Users\\mihir\\anaconda3\\lib\\site-packages\\sklearn\\model_selection\\_validation.py:598: DataConversionWarning: A column-vector y was passed when a 1d array was expected. Please change the shape of y to (n_samples,), for example using ravel().\n",
      "  estimator.fit(X_train, y_train, **fit_params)\n",
      "C:\\Users\\mihir\\anaconda3\\lib\\site-packages\\sklearn\\model_selection\\_validation.py:598: DataConversionWarning: A column-vector y was passed when a 1d array was expected. Please change the shape of y to (n_samples,), for example using ravel().\n",
      "  estimator.fit(X_train, y_train, **fit_params)\n",
      "C:\\Users\\mihir\\anaconda3\\lib\\site-packages\\sklearn\\model_selection\\_validation.py:598: DataConversionWarning: A column-vector y was passed when a 1d array was expected. Please change the shape of y to (n_samples,), for example using ravel().\n",
      "  estimator.fit(X_train, y_train, **fit_params)\n",
      "C:\\Users\\mihir\\anaconda3\\lib\\site-packages\\sklearn\\model_selection\\_validation.py:598: DataConversionWarning: A column-vector y was passed when a 1d array was expected. Please change the shape of y to (n_samples,), for example using ravel().\n",
      "  estimator.fit(X_train, y_train, **fit_params)\n"
     ]
    },
    {
     "data": {
      "text/plain": [
       "array([0.82551074, 0.89871272, 0.85773187, 0.85538367, 0.92948357,\n",
       "       0.9316217 ])"
      ]
     },
     "execution_count": 23,
     "metadata": {},
     "output_type": "execute_result"
    }
   ],
   "source": [
    "regr_best = RandomForestRegressor(n_estimators= 400,min_samples_split= 2,\n",
    " min_samples_leaf=1,\n",
    " max_features='sqrt',\n",
    "  max_depth= None,\n",
    " bootstrap=False)\n",
    "scores = cross_val_score(regr_best, X_train, Y_train, scoring='r2', cv=6)\n",
    "scores"
   ]
  },
  {
   "cell_type": "code",
   "execution_count": 24,
   "metadata": {
    "colab": {
     "base_uri": "https://localhost:8080/"
    },
    "id": "hW8VVuA9q12r",
    "outputId": "13d9c543-cc6f-4a1f-f54a-d84b86c70691"
   },
   "outputs": [
    {
     "name": "stderr",
     "output_type": "stream",
     "text": [
      "C:\\Users\\mihir\\AppData\\Local\\Temp/ipykernel_25152/416916181.py:1: DataConversionWarning: A column-vector y was passed when a 1d array was expected. Please change the shape of y to (n_samples,), for example using ravel().\n",
      "  regr_best.fit(X_train, Y_train)\n"
     ]
    },
    {
     "name": "stdout",
     "output_type": "stream",
     "text": [
      "R2_score: 0.7804003561979508\n"
     ]
    }
   ],
   "source": [
    "regr_best.fit(X_train, Y_train)\n",
    "y_pred_rf_best = regr_best.predict(X_test)\n",
    "print(\"R2_score:\",r2_score(Y_test,y_pred_rf_best))"
   ]
  },
  {
   "cell_type": "code",
   "execution_count": 25,
   "metadata": {
    "colab": {
     "base_uri": "https://localhost:8080/",
     "height": 265
    },
    "id": "JHAjvsB0rBNp",
    "outputId": "72bc0717-94be-4113-bc7d-c6a482a7c6bc"
   },
   "outputs": [
    {
     "name": "stderr",
     "output_type": "stream",
     "text": [
      "C:\\Users\\mihir\\AppData\\Local\\Temp/ipykernel_25152/2310391034.py:1: DataConversionWarning: A column-vector y was passed when a 1d array was expected. Please change the shape of y to (n_samples,), for example using ravel().\n",
      "  regr_best.fit(X_train, Y_train)\n"
     ]
    },
    {
     "data": {
      "image/png": "[encoded data removed]",
      "text/plain": [
       "<Figure size 432x288 with 1 Axes>"
      ]
     },
     "metadata": {
      "needs_background": "light"
     },
     "output_type": "display_data"
    }
   ],
   "source": [
    "regr_best.fit(X_train, Y_train)\n",
    "\n",
    "# Predict on the test set\n",
    "y_pred_rf_best = regr_best.predict(X_test)\n",
    "\n",
    "# Sort the indices based on Y_test values\n",
    "sorted_indices = np.argsort(Y_test.flatten())\n",
    "\n",
    "# Plot the organized graph\n",
    "plt.plot(Y_test[sorted_indices], y_pred_rf_best[sorted_indices], color='b',linestyle='--')\n",
    "plt.xlabel(\"True Values\")\n",
    "plt.ylabel(\"Predicted Values\")\n",
    "plt.title(\"Random Forest Regressor with Best Hyperparameters: True vs Predicted Values\")\n",
    "plt.show()"
   ]
  },
  {
   "cell_type": "code",
   "execution_count": 26,
   "metadata": {
    "colab": {
     "base_uri": "https://localhost:8080/"
    },
    "id": "GKDZ4iEorBMB",
    "outputId": "c042978c-92c9-480b-aba2-3ee1c4bb990b"
   },
   "outputs": [
    {
     "name": "stdout",
     "output_type": "stream",
     "text": [
      "MAE: 7.971936728395063\n",
      "MSE: 778.83505935571\n",
      "RMSE: 27.907616511549495\n"
     ]
    }
   ],
   "source": [
    "mae = mean_absolute_error(y_true=Y_test,y_pred=y_pred_rf_best)\n",
    "#squared True returns MSE value, False returns RMSE value.\n",
    "mse = mean_squared_error(y_true=Y_test,y_pred=y_pred_rf_best) #default=True\n",
    "rmse = mean_squared_error(y_true=Y_test,y_pred=y_pred_rf_best,squared=False)\n",
    "print(\"MAE:\",mae)\n",
    "print(\"MSE:\",mse)\n",
    "print(\"RMSE:\",rmse)"
   ]
  },
  {
   "cell_type": "markdown",
   "metadata": {
    "id": "iyC7bbc-NBQ0"
   },
   "source": [
    "## LASSO Regression"
   ]
  },
  {
   "cell_type": "code",
   "execution_count": 27,
   "metadata": {
    "colab": {
     "base_uri": "https://localhost:8080/"
    },
    "id": "bO7yCoTZZ3WW",
    "outputId": "3059c959-24f0-4316-8442-a8a1b00da480"
   },
   "outputs": [
    {
     "name": "stderr",
     "output_type": "stream",
     "text": [
      "C:\\Users\\mihir\\anaconda3\\lib\\site-packages\\sklearn\\linear_model\\_coordinate_descent.py:530: ConvergenceWarning: Objective did not converge. You might want to increase the number of iterations. Duality gap: 1240259.388609633, tolerance: 490.08471555555576\n",
      "  model = cd_fast.enet_coordinate_descent(\n",
      "C:\\Users\\mihir\\anaconda3\\lib\\site-packages\\sklearn\\linear_model\\_coordinate_descent.py:530: ConvergenceWarning: Objective did not converge. You might want to increase the number of iterations. Duality gap: 1241523.0304596792, tolerance: 547.8628100000002\n",
      "  model = cd_fast.enet_coordinate_descent(\n",
      "C:\\Users\\mihir\\anaconda3\\lib\\site-packages\\sklearn\\linear_model\\_coordinate_descent.py:530: ConvergenceWarning: Objective did not converge. You might want to increase the number of iterations. Duality gap: 1067576.2756166067, tolerance: 478.5953698765429\n",
      "  model = cd_fast.enet_coordinate_descent(\n",
      "C:\\Users\\mihir\\anaconda3\\lib\\site-packages\\sklearn\\linear_model\\_coordinate_descent.py:530: ConvergenceWarning: Objective did not converge. You might want to increase the number of iterations. Duality gap: 1124976.870483907, tolerance: 449.27349000000004\n",
      "  model = cd_fast.enet_coordinate_descent(\n",
      "C:\\Users\\mihir\\anaconda3\\lib\\site-packages\\sklearn\\linear_model\\_coordinate_descent.py:530: ConvergenceWarning: Objective did not converge. You might want to increase the number of iterations. Duality gap: 958877.1720183268, tolerance: 404.5219413580247\n",
      "  model = cd_fast.enet_coordinate_descent(\n",
      "C:\\Users\\mihir\\anaconda3\\lib\\site-packages\\sklearn\\linear_model\\_coordinate_descent.py:530: ConvergenceWarning: Objective did not converge. You might want to increase the number of iterations. Duality gap: 1233937.4090577273, tolerance: 518.88994617284\n",
      "  model = cd_fast.enet_coordinate_descent(\n"
     ]
    },
    {
     "data": {
      "text/plain": [
       "array([ 6.66090650e-01, -8.66346658e-02,  3.61963421e-01,  5.90184342e-01,\n",
       "        4.94958312e-01, -2.60466607e+17])"
      ]
     },
     "execution_count": 27,
     "metadata": {},
     "output_type": "execute_result"
    }
   ],
   "source": [
    "from sklearn import linear_model\n",
    "lasso = linear_model.Lasso(alpha=0.02)\n",
    "scores = cross_val_score(lasso, X_train, Y_train, scoring='r2', cv=6)\n",
    "scores"
   ]
  },
  {
   "cell_type": "code",
   "execution_count": 28,
   "metadata": {
    "colab": {
     "base_uri": "https://localhost:8080/"
    },
    "id": "j7TXuWwQ74cR",
    "outputId": "d3bc1fb3-395f-4faf-c108-587855b1683e"
   },
   "outputs": [
    {
     "name": "stdout",
     "output_type": "stream",
     "text": [
      "R2_score: 0.5204391663545846\n"
     ]
    },
    {
     "name": "stderr",
     "output_type": "stream",
     "text": [
      "C:\\Users\\mihir\\anaconda3\\lib\\site-packages\\sklearn\\linear_model\\_coordinate_descent.py:530: ConvergenceWarning: Objective did not converge. You might want to increase the number of iterations. Duality gap: 1381509.9038170876, tolerance: 577.9708282921815\n",
      "  model = cd_fast.enet_coordinate_descent(\n"
     ]
    }
   ],
   "source": [
    "lasso.fit(X_train,Y_train)\n",
    "y_pred_lr = lasso.predict(X_test)\n",
    "print(\"R2_score:\",r2_score(Y_test,y_pred_lr))"
   ]
  },
  {
   "cell_type": "code",
   "execution_count": 29,
   "metadata": {
    "colab": {
     "base_uri": "https://localhost:8080/",
     "height": 276
    },
    "id": "jEehV75ecK4y",
    "outputId": "40ac0bc3-4027-4c31-c8d2-8ace28d7e8f3"
   },
   "outputs": [
    {
     "data": {
      "image/png": "[encoded data removed]",
      "text/plain": [
       "<Figure size 432x288 with 1 Axes>"
      ]
     },
     "metadata": {
      "needs_background": "light"
     },
     "output_type": "display_data"
    }
   ],
   "source": [
    "sorted_indices = np.argsort(Y_test.flatten())\n",
    "\n",
    "# Plot the organized graph\n",
    "plt.plot(Y_test[sorted_indices], y_pred_lr[sorted_indices], color='b',linestyle='--')\n",
    "plt.xlabel(\"True Values\")\n",
    "plt.ylabel(\"Predicted Values\")\n",
    "plt.title(\"LASSO Regression: True vs Predicted Values\")\n",
    "plt.show()\n"
   ]
  },
  {
   "cell_type": "code",
   "execution_count": 30,
   "metadata": {
    "colab": {
     "base_uri": "https://localhost:8080/"
    },
    "id": "8mczo0cvcbol",
    "outputId": "1405d44b-5826-4555-8a54-b0a3fe096a27"
   },
   "outputs": [
    {
     "name": "stdout",
     "output_type": "stream",
     "text": [
      "MAE: 22.690315272121264\n",
      "MSE: 1606.4570888289213\n",
      "RMSE: 40.080632340681966\n"
     ]
    }
   ],
   "source": [
    "mae = mean_absolute_error(y_true=Y_test,y_pred=y_pred_lr)\n",
    "#squared True returns MSE value, False returns RMSE value.\n",
    "mse = mean_squared_error(y_true=Y_test,y_pred=y_pred_lr) #default=True\n",
    "rmse = mean_squared_error(y_true=Y_test,y_pred=y_pred_lr,squared=False)\n",
    "  \n",
    "print(\"MAE:\",mae)\n",
    "print(\"MSE:\",mse)\n",
    "print(\"RMSE:\",rmse)"
   ]
  },
  {
   "cell_type": "markdown",
   "metadata": {
    "id": "jhExVhVUNMNR"
   },
   "source": [
    "## XGBoost Regressor"
   ]
  },
  {
   "cell_type": "code",
   "execution_count": null,
   "metadata": {
    "colab": {
     "base_uri": "https://localhost:8080/"
    },
    "id": "DWJHYhN3cezA",
    "outputId": "7a5fe6e3-fa27-4c96-fed2-6c51c6fb6be0"
   },
   "outputs": [
    {
     "name": "stdout",
     "output_type": "stream",
     "text": [
      "[22:34:00] WARNING: /workspace/src/objective/regression_obj.cu:152: reg:linear is now deprecated in favor of reg:squarederror.\n",
      "[22:34:01] WARNING: /workspace/src/objective/regression_obj.cu:152: reg:linear is now deprecated in favor of reg:squarederror.\n",
      "[22:34:01] WARNING: /workspace/src/objective/regression_obj.cu:152: reg:linear is now deprecated in favor of reg:squarederror.\n",
      "[22:34:01] WARNING: /workspace/src/objective/regression_obj.cu:152: reg:linear is now deprecated in favor of reg:squarederror.\n",
      "[22:34:01] WARNING: /workspace/src/objective/regression_obj.cu:152: reg:linear is now deprecated in favor of reg:squarederror.\n",
      "[22:34:01] WARNING: /workspace/src/objective/regression_obj.cu:152: reg:linear is now deprecated in favor of reg:squarederror.\n"
     ]
    },
    {
     "data": {
      "text/plain": [
       "array([0.8807578 , 0.37057578, 0.5941038 , 0.80805542, 0.87722828,\n",
       "       0.71415152])"
      ]
     },
     "execution_count": 47,
     "metadata": {},
     "output_type": "execute_result"
    }
   ],
   "source": [
    "import xgboost as xg\n",
    "\n",
    "xgb_r = xg.XGBRegressor(objective ='reg:linear',\n",
    "                  n_estimators = 70, seed = 123)\n",
    "scores = cross_val_score(xgb_r, X_train, Y_train, scoring='r2', cv=6)\n",
    "scores"
   ]
  },
  {
   "cell_type": "code",
   "execution_count": null,
   "metadata": {
    "colab": {
     "base_uri": "https://localhost:8080/"
    },
    "id": "6tfNm_kv8R1s",
    "outputId": "6f16e866-d099-4506-cc06-89ca3cb4521d"
   },
   "outputs": [
    {
     "name": "stdout",
     "output_type": "stream",
     "text": [
      "[19:08:48] WARNING: /workspace/src/objective/regression_obj.cu:152: reg:linear is now deprecated in favor of reg:squarederror.\n",
      "R2_score: 0.7665741141794578\n"
     ]
    }
   ],
   "source": [
    "xgb_r.fit(X_train, Y_train)\n",
    "y_pred_xg = xgb_r.predict(X_test)\n",
    "print(\"R2_score:\",r2_score(Y_test,y_pred_xg))"
   ]
  },
  {
   "cell_type": "code",
   "execution_count": null,
   "metadata": {
    "colab": {
     "base_uri": "https://localhost:8080/",
     "height": 265
    },
    "id": "YJ2JQaq-dG7m",
    "outputId": "934215b7-39dc-447a-c484-ff263c1ee66a"
   },
   "outputs": [
    {
     "data": {
      "image/png": "[encoded data removed]",
      "text/plain": [
       "<Figure size 432x288 with 1 Axes>"
      ]
     },
     "metadata": {
      "needs_background": "light"
     },
     "output_type": "display_data"
    }
   ],
   "source": [
    "\n",
    "plt.plot(Y_test[sorted_indices], y_pred_xg[sorted_indices], color='b',linestyle='--')\n",
    "plt.xlabel(\"True Values\")\n",
    "plt.ylabel(\"Predicted Values\")\n",
    "plt.title(\"XGBoost Regressor: True vs Predicted Values\")\n",
    "plt.show()"
   ]
  },
  {
   "cell_type": "code",
   "execution_count": null,
   "metadata": {
    "colab": {
     "base_uri": "https://localhost:8080/"
    },
    "id": "Gf4oeYw8dLwr",
    "outputId": "88926988-d784-4e9f-dc84-b64980f53784"
   },
   "outputs": [
    {
     "name": "stdout",
     "output_type": "stream",
     "text": [
      "MAE: 11.113280767551911\n",
      "MSE: 1128.6469695599405\n",
      "RMSE: 33.59534148598494\n"
     ]
    }
   ],
   "source": [
    "mae = mean_absolute_error(y_true=Y_test,y_pred=y_pred_xg)\n",
    "#squared True returns MSE value, False returns RMSE value.\n",
    "mse = mean_squared_error(y_true=Y_test,y_pred=y_pred_xg) #default=True\n",
    "rmse = mean_squared_error(y_true=Y_test,y_pred=y_pred_xg,squared=False)\n",
    "  \n",
    "print(\"MAE:\",mae)\n",
    "print(\"MSE:\",mse)\n",
    "print(\"RMSE:\",rmse)"
   ]
  },
  {
   "cell_type": "markdown",
   "metadata": {
    "id": "XH_CWfQSnCtx"
   },
   "source": [
    "### Hyperparameter tuning with RandomSearchCV"
   ]
  },
  {
   "cell_type": "code",
   "execution_count": null,
   "metadata": {
    "id": "Vbk_CQP1pgul"
   },
   "outputs": [],
   "source": [
    "params = {\n",
    " 'learning_rate' : [0.05,0.10,0.15,0.20,0.25,0.30],\n",
    " 'max_depth' : [ 3, 4, 5, 6, 8, 10, 12, 15],\n",
    " 'min_child_weight' : [ 1, 3, 5, 7 ],\n",
    " 'gamma': [ 0.0, 0.1, 0.2 , 0.3, 0.4 ],\n",
    " 'colsample_bytree' : [ 0.3, 0.4, 0.5 , 0.7 ]\n",
    "}"
   ]
  },
  {
   "cell_type": "code",
   "execution_count": null,
   "metadata": {
    "id": "mxgXHPWlpoDE"
   },
   "outputs": [],
   "source": [
    "rs_model=RandomizedSearchCV(xgb_r,param_distributions=params,n_iter=10,scoring='r2',n_jobs=-1,cv=5,verbose=3)"
   ]
  },
  {
   "cell_type": "code",
   "execution_count": null,
   "metadata": {
    "colab": {
     "base_uri": "https://localhost:8080/"
    },
    "id": "VFF-Z9Uuren7",
    "outputId": "f699f0fb-cfa8-4382-a694-16d8eb013f88"
   },
   "outputs": [
    {
     "name": "stdout",
     "output_type": "stream",
     "text": [
      "Fitting 5 folds for each of 10 candidates, totalling 50 fits\n",
      "[22:35:05] WARNING: /workspace/src/objective/regression_obj.cu:152: reg:linear is now deprecated in favor of reg:squarederror.\n"
     ]
    },
    {
     "data": {
      "text/plain": [
       "RandomizedSearchCV(cv=5, estimator=XGBRegressor(n_estimators=70, seed=123),\n",
       "                   n_jobs=-1,\n",
       "                   param_distributions={'colsample_bytree': [0.3, 0.4, 0.5,\n",
       "                                                             0.7],\n",
       "                                        'gamma': [0.0, 0.1, 0.2, 0.3, 0.4],\n",
       "                                        'learning_rate': [0.05, 0.1, 0.15, 0.2,\n",
       "                                                          0.25, 0.3],\n",
       "                                        'max_depth': [3, 4, 5, 6, 8, 10, 12,\n",
       "                                                      15],\n",
       "                                        'min_child_weight': [1, 3, 5, 7]},\n",
       "                   scoring='r2', verbose=3)"
      ]
     },
     "execution_count": 51,
     "metadata": {},
     "output_type": "execute_result"
    }
   ],
   "source": [
    "rs_model.fit(X_train,Y_train)"
   ]
  },
  {
   "cell_type": "code",
   "execution_count": null,
   "metadata": {
    "colab": {
     "base_uri": "https://localhost:8080/"
    },
    "id": "hbCabhSvremW",
    "outputId": "c74aba0e-1a47-4268-88bf-88bc49271296"
   },
   "outputs": [
    {
     "data": {
      "text/plain": [
       "XGBRegressor(colsample_bytree=0.3, gamma=0.1, max_depth=5, min_child_weight=7,\n",
       "             n_estimators=70, seed=123)"
      ]
     },
     "execution_count": 52,
     "metadata": {},
     "output_type": "execute_result"
    }
   ],
   "source": [
    "rs_model.best_estimator_\n"
   ]
  },
  {
   "cell_type": "code",
   "execution_count": null,
   "metadata": {
    "colab": {
     "base_uri": "https://localhost:8080/"
    },
    "id": "z9Py_G7Aru2m",
    "outputId": "91cfdcf0-5a0f-4db8-c0e5-5d769b33f285"
   },
   "outputs": [
    {
     "name": "stdout",
     "output_type": "stream",
     "text": [
      "[22:36:00] WARNING: /workspace/src/objective/regression_obj.cu:152: reg:linear is now deprecated in favor of reg:squarederror.\n",
      "[22:36:00] WARNING: /workspace/src/objective/regression_obj.cu:152: reg:linear is now deprecated in favor of reg:squarederror.\n",
      "[22:36:00] WARNING: /workspace/src/objective/regression_obj.cu:152: reg:linear is now deprecated in favor of reg:squarederror.\n",
      "[22:36:00] WARNING: /workspace/src/objective/regression_obj.cu:152: reg:linear is now deprecated in favor of reg:squarederror.\n",
      "[22:36:00] WARNING: /workspace/src/objective/regression_obj.cu:152: reg:linear is now deprecated in favor of reg:squarederror.\n",
      "[22:36:01] WARNING: /workspace/src/objective/regression_obj.cu:152: reg:linear is now deprecated in favor of reg:squarederror.\n"
     ]
    },
    {
     "data": {
      "text/plain": [
       "array([0.8807578 , 0.37057578, 0.5941038 , 0.80805542, 0.87722828,\n",
       "       0.71415152])"
      ]
     },
     "execution_count": 53,
     "metadata": {},
     "output_type": "execute_result"
    }
   ],
   "source": [
    "xgb_r_best = xg.XGBRegressor(objective ='reg:linear',\n",
    "                  n_estimators = 70, seed = 123)\n",
    "scores = cross_val_score(xgb_r_best, X_train, Y_train, scoring='r2', cv=6)\n",
    "scores"
   ]
  },
  {
   "cell_type": "code",
   "execution_count": null,
   "metadata": {
    "colab": {
     "base_uri": "https://localhost:8080/"
    },
    "id": "UQEp9Rfxr8Ep",
    "outputId": "c0df4216-d271-46e2-f676-7d415a052bae"
   },
   "outputs": [
    {
     "name": "stdout",
     "output_type": "stream",
     "text": [
      "[22:36:49] WARNING: /workspace/src/objective/regression_obj.cu:152: reg:linear is now deprecated in favor of reg:squarederror.\n",
      "R2_score: 0.7664395388056433\n"
     ]
    }
   ],
   "source": [
    "xgb_r_best.fit(X_train, Y_train)\n",
    "y_pred_xg_best = xgb_r_best.predict(X_test)\n",
    "print(\"R2_score:\",r2_score(Y_test,y_pred_xg_best))"
   ]
  },
  {
   "cell_type": "code",
   "execution_count": null,
   "metadata": {
    "colab": {
     "base_uri": "https://localhost:8080/",
     "height": 269
    },
    "id": "JqPzVdRqsEus",
    "outputId": "44cd489c-7abb-42ad-c209-0c1e3c64d916"
   },
   "outputs": [
    {
     "data": {
      "image/png": "[encoded data removed]",
      "text/plain": [
       "<Figure size 432x288 with 1 Axes>"
      ]
     },
     "metadata": {
      "needs_background": "light"
     },
     "output_type": "display_data"
    }
   ],
   "source": [
    "sorted_indices = np.argsort(Y_test.flatten())\n",
    "\n",
    "# Plot the organized graph\n",
    "plt.plot(Y_test[sorted_indices], y_pred_xg_best[sorted_indices], color='k')\n",
    "plt.xlabel(\"True Values\")\n",
    "plt.ylabel(\"Predicted Values\")\n",
    "plt.title(\"XGBoost Regressor with Best Hyperparameters: True vs Predicted Values\")\n",
    "plt.show()"
   ]
  },
  {
   "cell_type": "code",
   "execution_count": null,
   "metadata": {
    "colab": {
     "base_uri": "https://localhost:8080/"
    },
    "id": "KJmzE7fXsQ96",
    "outputId": "f0b8dee6-d642-4f16-dbff-f2548d8af363"
   },
   "outputs": [
    {
     "name": "stdout",
     "output_type": "stream",
     "text": [
      "MAE: 12.961354508536097\n",
      "MSE: 2114.7442989624346\n",
      "RMSE: 45.98634905015221\n"
     ]
    }
   ],
   "source": [
    "mae = mean_absolute_error(y_true=Y_test,y_pred=y_pred_xg_best)\n",
    "#squared True returns MSE value, False returns RMSE value.\n",
    "mse = mean_squared_error(y_true=Y_test,y_pred=y_pred_xg_best) #default=True\n",
    "rmse = mean_squared_error(y_true=Y_test,y_pred=y_pred_xg_best,squared=False)\n",
    "  \n",
    "print(\"MAE:\",mae)\n",
    "print(\"MSE:\",mse)\n",
    "print(\"RMSE:\",rmse)"
   ]
  },
  {
   "cell_type": "markdown",
   "metadata": {
    "id": "jLyn0sFdNgca"
   },
   "source": [
    "## KNN Regressor"
   ]
  },
  {
   "cell_type": "code",
   "execution_count": 13,
   "metadata": {
    "colab": {
     "base_uri": "https://localhost:8080/"
    },
    "id": "fPWJzOrRNi3a",
    "outputId": "bd53e254-107d-4d1c-9fc0-bb73480e16cf"
   },
   "outputs": [
    {
     "data": {
      "text/plain": [
       "array([ 0.06364155,  0.69279409,  0.27093025,  0.43173253,  0.74896951,\n",
       "       -1.21182416])"
      ]
     },
     "execution_count": 13,
     "metadata": {},
     "output_type": "execute_result"
    }
   ],
   "source": [
    "from sklearn.neighbors import KNeighborsRegressor\n",
    "knn_regressor=KNeighborsRegressor(n_neighbors=1)\n",
    "scores = cross_val_score(knn_regressor, X_train, Y_train, scoring='r2', cv=6)\n",
    "scores\n"
   ]
  },
  {
   "cell_type": "code",
   "execution_count": 14,
   "metadata": {
    "colab": {
     "base_uri": "https://localhost:8080/"
    },
    "id": "2tosfhWbNV-s",
    "outputId": "17b9ba11-bcc5-4ea0-9fe2-560b617d6bdc"
   },
   "outputs": [
    {
     "name": "stdout",
     "output_type": "stream",
     "text": [
      "R2_score: 0.23338798207439093\n"
     ]
    }
   ],
   "source": [
    "knn_regressor.fit(X_train, Y_train)\n",
    "y_pred_knn = knn_regressor.predict(X_test)\n",
    "print(\"R2_score:\",r2_score(Y_test,y_pred_knn))"
   ]
  },
  {
   "cell_type": "code",
   "execution_count": 15,
   "metadata": {
    "colab": {
     "base_uri": "https://localhost:8080/",
     "height": 265
    },
    "id": "izZgJevZNkVC",
    "outputId": "49c9ccb2-a25a-4f8a-d04d-b5449408ada7"
   },
   "outputs": [
    {
     "data": {
      "image/png": "[encoded data removed]",
      "text/plain": [
       "<Figure size 432x288 with 1 Axes>"
      ]
     },
     "metadata": {
      "needs_background": "light"
     },
     "output_type": "display_data"
    }
   ],
   "source": [
    "sorted_indices = np.argsort(Y_test.flatten())\n",
    "\n",
    "# Plot the organized graph\n",
    "plt.plot(Y_test[sorted_indices], y_pred_knn[sorted_indices], color='b',linestyle='--')\n",
    "plt.xlabel(\"True Values\")\n",
    "plt.ylabel(\"Predicted Values\")\n",
    "plt.title(\"KNN Regressor: True vs Predicted Values\")\n",
    "plt.show()"
   ]
  },
  {
   "cell_type": "code",
   "execution_count": 21,
   "metadata": {
    "colab": {
     "base_uri": "https://localhost:8080/"
    },
    "id": "bcAyBEodNo82",
    "outputId": "896e32b7-17b7-47a7-c8ff-d9508fd310ce"
   },
   "outputs": [
    {
     "name": "stdout",
     "output_type": "stream",
     "text": [
      "MAE: 21.10185185185185\n",
      "MSE: 4989.533950617284\n",
      "RMSE: 70.63663320556327\n"
     ]
    }
   ],
   "source": [
    "mae = mean_absolute_error(y_true=Y_test,y_pred=y_pred_knn)\n",
    "#squared True returns MSE value, False returns RMSE value.\n",
    "mse = mean_squared_error(y_true=Y_test,y_pred=y_pred_knn) #default=True\n",
    "rmse = mean_squared_error(y_true=Y_test,y_pred=y_pred_knn,squared=False)\n",
    "  \n",
    "print(\"MAE:\",mae)\n",
    "print(\"MSE:\",mse)\n",
    "print(\"RMSE:\",rmse)"
   ]
  },
  {
   "cell_type": "markdown",
   "metadata": {
    "id": "SG8rRMkNN6Yo"
   },
   "source": [
    "### Hyperparameter tuning"
   ]
  },
  {
   "cell_type": "code",
   "execution_count": 22,
   "metadata": {
    "id": "RIlmWYVPN8i7"
   },
   "outputs": [],
   "source": [
    "knn_accuracy_rate = []\n",
    "for i in range(1,40):\n",
    "    \n",
    "    knn = KNeighborsRegressor(n_neighbors=i)\n",
    "    knn_score=cross_val_score(knn,X_train,Y_train,cv=10,scoring=\"r2\")\n",
    "    knn_accuracy_rate.append(knn_score.mean())\n",
    "\n"
   ]
  },
  {
   "cell_type": "code",
   "execution_count": 23,
   "metadata": {
    "colab": {
     "base_uri": "https://localhost:8080/",
     "height": 421
    },
    "id": "UZvxld73OUk1",
    "outputId": "ea7569d2-d8fd-475c-84f7-acaffff1e881"
   },
   "outputs": [
    {
     "data": {
      "text/plain": [
       "Text(0, 0.5, 'Accuracy Rate')"
      ]
     },
     "execution_count": 23,
     "metadata": {},
     "output_type": "execute_result"
    },
    {
     "data": {
      "image/png": "[encoded data removed]",
      "text/plain": [
       "<Figure size 720x432 with 1 Axes>"
      ]
     },
     "metadata": {
      "needs_background": "light"
     },
     "output_type": "display_data"
    }
   ],
   "source": [
    "import matplotlib.pyplot as plt\n",
    "\n",
    "plt.figure(figsize=(10,6))\n",
    "plt.plot(range(1,40),knn_accuracy_rate,color='blue', linestyle='dashed', marker='o',\n",
    "         markerfacecolor='red', markersize=10)\n",
    "plt.title('Accuracy Rate vs. K Value')\n",
    "plt.xlabel('K')\n",
    "plt.ylabel('Accuracy Rate')"
   ]
  },
  {
   "cell_type": "code",
   "execution_count": 24,
   "metadata": {
    "colab": {
     "base_uri": "https://localhost:8080/"
    },
    "id": "0rwuwtSKOiXy",
    "outputId": "e98dd428-294e-48e6-fcf4-308591630d7f"
   },
   "outputs": [
    {
     "data": {
      "text/plain": [
       "array([-0.46038337,  0.40119938,  0.38576492,  0.18116925,  0.41943172,\n",
       "       -0.240803  ])"
      ]
     },
     "execution_count": 24,
     "metadata": {},
     "output_type": "execute_result"
    }
   ],
   "source": [
    "knn_regressor_best=KNeighborsRegressor(n_neighbors=10)\n",
    "scores = cross_val_score(knn_regressor_best, X_train, Y_train, scoring='r2', cv=6)\n",
    "scores"
   ]
  },
  {
   "cell_type": "code",
   "execution_count": 25,
   "metadata": {
    "colab": {
     "base_uri": "https://localhost:8080/"
    },
    "id": "ptPhyfpwOos0",
    "outputId": "9b183d2c-b6b7-4216-d118-fa782c736e96"
   },
   "outputs": [
    {
     "name": "stdout",
     "output_type": "stream",
     "text": [
      "R2_score: 0.34721224201350476\n"
     ]
    }
   ],
   "source": [
    "knn_regressor_best.fit(X_train, Y_train)\n",
    "y_pred_knn_best = knn_regressor_best.predict(X_test)\n",
    "print(\"R2_score:\",r2_score(Y_test,y_pred_knn_best))"
   ]
  },
  {
   "cell_type": "code",
   "execution_count": 27,
   "metadata": {
    "colab": {
     "base_uri": "https://localhost:8080/",
     "height": 265
    },
    "id": "-Tu1cmTpOtlo",
    "outputId": "421cab20-2398-465c-d119-5c68de8b0f8a"
   },
   "outputs": [
    {
     "data": {
      "image/png": "[encoded data removed]",
      "text/plain": [
       "<Figure size 432x288 with 1 Axes>"
      ]
     },
     "metadata": {
      "needs_background": "light"
     },
     "output_type": "display_data"
    }
   ],
   "source": [
    "sorted_indices = np.argsort(Y_test.flatten())\n",
    "\n",
    "# Plot the organized graph\n",
    "plt.plot(Y_test[sorted_indices], y_pred_knn_best[sorted_indices], color='b',linestyle='--')\n",
    "plt.xlabel(\"True Values\")\n",
    "plt.ylabel(\"Predicted Values\")\n",
    "plt.title(\"KNN Regressor with Best K Value: True vs Predicted Values\")\n",
    "plt.show()"
   ]
  },
  {
   "cell_type": "code",
   "execution_count": 28,
   "metadata": {
    "colab": {
     "base_uri": "https://localhost:8080/"
    },
    "id": "yWd9_oSFOz6-",
    "outputId": "04f4bb86-bcbf-4335-9388-1e1c604d3c15"
   },
   "outputs": [
    {
     "name": "stdout",
     "output_type": "stream",
     "text": [
      "MAE: 24.416975308641977\n",
      "MSE: 4248.70287037037\n",
      "RMSE: 65.1820747627012\n"
     ]
    }
   ],
   "source": [
    "mae = mean_absolute_error(y_true=Y_test,y_pred=y_pred_knn_best)\n",
    "#squared True returns MSE value, False returns RMSE value.\n",
    "mse = mean_squared_error(y_true=Y_test,y_pred=y_pred_knn_best) #default=True\n",
    "rmse = mean_squared_error(y_true=Y_test,y_pred=y_pred_knn_best,squared=False)\n",
    "  \n",
    "print(\"MAE:\",mae)\n",
    "print(\"MSE:\",mse)\n",
    "print(\"RMSE:\",rmse)"
   ]
  },
  {
   "cell_type": "markdown",
   "metadata": {
    "id": "Tasidgnwb_kz"
   },
   "source": [
    "## PSO Regression\n"
   ]
  },
  {
   "cell_type": "code",
   "execution_count": null,
   "metadata": {
    "id": "bO9WvQZffUqw"
   },
   "outputs": [],
   "source": [
    "from scipy.stats import norm\n",
    "from sklearn.preprocessing import StandardScaler\n",
    "\n",
    "YData = data['Single Black Holes']\n",
    "XData = data.drop(['Single Black Holes','Binary Black Holes','Black Hole Other Count','TLC at 12 Gyrs'], axis=1)\n",
    "X = XData.values\n",
    "y= YData.values\n",
    "scaler = StandardScaler()\n",
    "X = scaler.fit_transform(X)"
   ]
  },
  {
   "cell_type": "code",
   "execution_count": null,
   "metadata": {
    "colab": {
     "base_uri": "https://localhost:8080/"
    },
    "id": "hVy7zDLtjxz9",
    "outputId": "3c1df3d6-93e3-4287-8ddf-00b563f0ec4d"
   },
   "outputs": [
    {
     "data": {
      "text/plain": [
       "((1296, 18), (1296,))"
      ]
     },
     "execution_count": 58,
     "metadata": {},
     "output_type": "execute_result"
    }
   ],
   "source": [
    "X.shape, y.shape\n"
   ]
  },
  {
   "cell_type": "code",
   "execution_count": null,
   "metadata": {
    "id": "0VL6tm7mlA8-"
   },
   "outputs": [],
   "source": []
  },
  {
   "cell_type": "code",
   "execution_count": null,
   "metadata": {
    "id": "TN_yFjw_jzsV"
   },
   "outputs": [],
   "source": [
    "class SIregression:\n",
    "  def __init__(self,num_particles=10,learning_rate=0.0003,batch_size=10,epoch=10,inertia = 0.9, c1 = 0.5, c2 = 0.4):\n",
    "    self.lr_init = learning_rate\n",
    "    self.batch_size = batch_size\n",
    "    self.num_particles = num_particles\n",
    "    self.trained_weights = None\n",
    "    self.epoch = epoch\n",
    "    self.c2 = c2\n",
    "    self.c1 = c1\n",
    "    self.inertia = inertia\n",
    "\n",
    "  def split(self,data):\n",
    "    # one can override this function build custom data spliter (for temporal data)\n",
    "    split_percentage = 1\n",
    "    # returns training data,validation data\n",
    "    return data[:int(data.shape[0]*split_percentage)],data[int(data.shape[0]*(split_percentage)):] \n",
    "\n",
    "  def loss_func(self,target,values):\n",
    "    # one can overrided this function to create a custome lossfunction\n",
    "    return np.sum((target-values)**2)/target.shape[0]\n",
    "\n",
    "  def exp_decay(self,loss):\n",
    "    # learning rate will decay with respect to the loss\n",
    "    k = 0.3\n",
    "    lrate = self.lr_init * np.exp(k*(loss-self.thresh))\n",
    "    return lrate\n",
    "\n",
    "  def velocity_update(self,v1,pbest,gbest,present):\n",
    "    #updating the velocity using the formula\n",
    "    # logistic equation of chaos as r > 4 \n",
    "    self.inertia = 4*self.inertia*(1-self.inertia)\n",
    "    return self.inertia*v1 + self.c1*np.random.rand()*(pbest-present)+self.c2*np.random.rand()*(gbest-present)\n",
    "  def fit(self,X,y):\n",
    "    # initializing starting position, velocity, particles best values\n",
    "    particles=[]\n",
    "    best_loss = 0\n",
    "    global_best = None\n",
    "    # adding one for the bias term\n",
    "    X = np.append(X,np.ones(shape = (X.shape[0],1)),axis=1)\n",
    "\n",
    "    for particle in norm.rvs(scale = 5, size = (self.num_particles , X.shape[1])):\n",
    "      particles.append({'values':particle,\n",
    "                        'velocity':np.random.randn(X.shape[1]),\n",
    "                        'present_best': particle})\n",
    "      \n",
    "      if len(particles) == 1:\n",
    "        global_best = particle\n",
    "        best_loss = self.loss_func(y[:self.batch_size],np.array([np.sum(particle*x) for x in X[:self.batch_size]]))\n",
    "      else:\n",
    "        current_loss = self.loss_func(y[:self.batch_size],np.array([np.sum(particle*x) for x in X[:self.batch_size]]))\n",
    "        if current_loss<best_loss:\n",
    "          global_best = particle\n",
    "          best_loss = current_loss\n",
    "    particles = np.array(particles)\n",
    "\n",
    "    #algorithm\n",
    "    ep = 0\n",
    "    loss = 9999\n",
    "    while self.epoch>ep:\n",
    "      train_data,val_data = self.split(np.append(X,np.vstack(y),axis=1))\n",
    "      previous_loss = self.loss_func(train_data[:,-1],np.array([np.sum(global_best*x) for x in train_data[:,:-1]]))\n",
    "      for i,particle in enumerate(particles):\n",
    "        # print(particle.values)\n",
    "        particles[i]['velocity'] = self.velocity_update(particle['velocity'],global_best,particle['present_best'],particles[i]['values'])\n",
    "        \n",
    "        # updating the position\n",
    "        particles[i]['values'] = particles[i]['values'] + particles[i]['velocity']\n",
    "\n",
    "        # updating present best and global best\n",
    "        present_loss = self.loss_func(train_data[:,-1],np.array([np.sum(particles[i]['values']*x) for x in train_data[:,:-1]]))\n",
    "        present_best_loss = self.loss_func(train_data[:,-1],np.array([np.sum(particles[i]['present_best']*x) for x in train_data[:,:-1]]))\n",
    "        global_best_loss = self.loss_func(train_data[:,-1],np.array([np.sum(global_best*x) for x in train_data[:,:-1]]))\n",
    "        \n",
    "        if present_loss < present_best_loss:\n",
    "          particles[i]['present_best'] = particles[i]['values']\n",
    "        if present_best_loss < global_best_loss:\n",
    "          global_best = particles[i]['present_best']\n",
    "        \n",
    "      loss = self.loss_func(train_data[:,-1],np.array([np.sum(global_best*x) for x in train_data[:,:-1]]))\n",
    "      # mutation for local minima purpose\n",
    "      if int(previous_loss) == int(loss):\n",
    "        for i,_ in enumerate(particles):\n",
    "          # shift the point by a randnom distance which decreases as the iterations reaches end\n",
    "          particles[i]['values'] = particles[i]['values'] + norm.rvs(scale =(self.epoch-ep)/self.epoch if (self.epoch-ep)/self.epoch > 0.2 else 0.2 ,size=(len(particles[i]['values'])))\n",
    "      \n",
    "      print(\"training loss {} of epoch {}\".format(loss,ep+1))\n",
    "      ep = ep+1\n",
    "    \n",
    "    print(global_best.shape)\n",
    "    self.trained_weights = global_best\n",
    "    return self.trained_weights\n",
    "  def predict(self,X):\n",
    "    # adding one for the bias term\n",
    "    print(X.shape)\n",
    "    X = np.append(X,np.ones(shape = (X.shape[0],1)),axis=1)\n",
    "    return np.array([np.sum(self.trained_weights*x) for x in X[:,:]])"
   ]
  },
  {
   "cell_type": "code",
   "execution_count": null,
   "metadata": {
    "id": "iWug8iSqowOl"
   },
   "outputs": [],
   "source": [
    "X_train, X_test, Y_train, Y_test = train_test_split(X, y, test_size = 0.25)"
   ]
  },
  {
   "cell_type": "code",
   "execution_count": null,
   "metadata": {
    "colab": {
     "base_uri": "https://localhost:8080/"
    },
    "id": "3qy02sm4kyL2",
    "outputId": "3b42221e-fcba-41e7-a3ff-cf3190854127"
   },
   "outputs": [
    {
     "name": "stdout",
     "output_type": "stream",
     "text": [
      "training loss 4427.2437026006355 of epoch 1\n",
      "training loss 4389.681412938178 of epoch 2\n",
      "training loss 4312.941307269797 of epoch 3\n",
      "training loss 3910.4646756913985 of epoch 4\n",
      "training loss 3910.4646756913985 of epoch 5\n",
      "training loss 3871.850724985504 of epoch 6\n",
      "training loss 3853.5945453069053 of epoch 7\n",
      "training loss 3853.5945453069053 of epoch 8\n",
      "training loss 3797.311028065578 of epoch 9\n",
      "training loss 3795.464140019058 of epoch 10\n",
      "training loss 3784.3109550082604 of epoch 11\n",
      "training loss 3771.5549812714503 of epoch 12\n",
      "training loss 3737.3429045152184 of epoch 13\n",
      "training loss 3737.3429045152184 of epoch 14\n",
      "training loss 3720.624818988597 of epoch 15\n",
      "training loss 3697.53600435532 of epoch 16\n",
      "training loss 3697.53600435532 of epoch 17\n",
      "training loss 3652.1535396695917 of epoch 18\n",
      "training loss 3652.1535396695917 of epoch 19\n",
      "training loss 3629.758695151628 of epoch 20\n",
      "training loss 3608.4587168108947 of epoch 21\n",
      "training loss 3608.4587168108947 of epoch 22\n",
      "training loss 3567.8524562889856 of epoch 23\n",
      "training loss 3567.8524562889856 of epoch 24\n",
      "training loss 3559.1352995156003 of epoch 25\n",
      "training loss 3554.9654438099137 of epoch 26\n",
      "training loss 3544.2590968544346 of epoch 27\n",
      "training loss 3544.2590968544346 of epoch 28\n",
      "training loss 3539.7276501038336 of epoch 29\n",
      "training loss 3535.7182825529803 of epoch 30\n",
      "training loss 3525.753656487402 of epoch 31\n",
      "training loss 3525.753656487402 of epoch 32\n",
      "training loss 3523.360410262807 of epoch 33\n",
      "training loss 3517.2916665282946 of epoch 34\n",
      "training loss 3512.8413771964097 of epoch 35\n",
      "training loss 3512.8413771964097 of epoch 36\n",
      "training loss 3508.526379222277 of epoch 37\n",
      "training loss 3505.723029699278 of epoch 38\n",
      "training loss 3501.7989549498157 of epoch 39\n",
      "training loss 3501.5041837959507 of epoch 40\n",
      "training loss 3499.1321403508327 of epoch 41\n",
      "training loss 3494.8599914765814 of epoch 42\n",
      "training loss 3494.8599914765814 of epoch 43\n",
      "training loss 3491.07550351632 of epoch 44\n",
      "training loss 3490.8360104888525 of epoch 45\n",
      "training loss 3490.8360104888525 of epoch 46\n",
      "training loss 3488.1277038400617 of epoch 47\n",
      "training loss 3486.334874761052 of epoch 48\n",
      "training loss 3482.3137162101284 of epoch 49\n",
      "training loss 3482.3137162101284 of epoch 50\n",
      "(19,)\n"
     ]
    },
    {
     "data": {
      "text/plain": [
       "array([ -5.02259056,  -4.28518345,  13.9133417 ,   4.75388887,\n",
       "        21.81820026,  -5.33600507,  -4.63849189, -11.05918294,\n",
       "        19.42499209,  -7.57778394,  -0.23119378, -12.89889742,\n",
       "        -8.43831696,   1.51332247,  -2.10896918,  -8.17799728,\n",
       "        14.443285  ,   5.26507715,  19.84094744])"
      ]
     },
     "execution_count": 66,
     "metadata": {},
     "output_type": "execute_result"
    }
   ],
   "source": [
    "model = SIregression(num_particles=70,epoch=50)\n",
    "model.fit(X_train,Y_train)\n"
   ]
  },
  {
   "cell_type": "code",
   "execution_count": null,
   "metadata": {
    "colab": {
     "base_uri": "https://localhost:8080/"
    },
    "id": "D_nD4jB8riae",
    "outputId": "351a40dd-3a19-48ea-d939-e8ebd55bca1d"
   },
   "outputs": [
    {
     "name": "stdout",
     "output_type": "stream",
     "text": [
      "(324, 18)\n"
     ]
    }
   ],
   "source": [
    "y_pred_pso = model.predict(X_test)"
   ]
  },
  {
   "cell_type": "code",
   "execution_count": null,
   "metadata": {
    "colab": {
     "base_uri": "https://localhost:8080/"
    },
    "id": "QII6XFUBpHI5",
    "outputId": "b03bda05-4d56-4831-9b9b-48e107402499"
   },
   "outputs": [
    {
     "name": "stdout",
     "output_type": "stream",
     "text": [
      "3476.7931513180724\n"
     ]
    }
   ],
   "source": [
    "print(model.loss_func(Y_test,y_pred_pso))"
   ]
  },
  {
   "cell_type": "code",
   "execution_count": null,
   "metadata": {
    "colab": {
     "base_uri": "https://localhost:8080/"
    },
    "id": "QM70bGbirfr7",
    "outputId": "f2881fa7-ad00-4fd3-d784-29e1b19a2462"
   },
   "outputs": [
    {
     "name": "stdout",
     "output_type": "stream",
     "text": [
      "MAE: 36.672847686383804\n",
      "MSE: 3476.7931513180724\n",
      "RMSE: 58.96433796217907\n"
     ]
    }
   ],
   "source": [
    "from sklearn.metrics import mean_absolute_error,mean_squared_error\n",
    "mae = mean_absolute_error(y_true=Y_test,y_pred=y_pred_pso)\n",
    "#squared True returns MSE value, False returns RMSE value.\n",
    "mse = mean_squared_error(y_true=Y_test,y_pred=y_pred_pso) #default=True\n",
    "rmse = mean_squared_error(y_true=Y_test,y_pred=y_pred_pso,squared=False)\n",
    "  \n",
    "print(\"MAE:\",mae)\n",
    "print(\"MSE:\",mse)\n",
    "print(\"RMSE:\",rmse)"
   ]
  },
  {
   "cell_type": "code",
   "execution_count": null,
   "metadata": {
    "colab": {
     "base_uri": "https://localhost:8080/"
    },
    "id": "Yf_Z1Nplruw8",
    "outputId": "4a0e1796-d181-4c6c-80f3-559e84ec9cb5"
   },
   "outputs": [
    {
     "name": "stdout",
     "output_type": "stream",
     "text": [
      "R2_score 0.10302610012420443\n"
     ]
    }
   ],
   "source": [
    "from sklearn.metrics import r2_score\n",
    "print(\"R2_score\",r2_score(Y_test,y_pred_pso))"
   ]
  },
  {
   "cell_type": "markdown",
   "metadata": {
    "id": "IiB5Hy7bqLDb"
   },
   "source": [
    "## Comparing with SLR model"
   ]
  },
  {
   "cell_type": "code",
   "execution_count": null,
   "metadata": {
    "colab": {
     "base_uri": "https://localhost:8080/"
    },
    "id": "IMj6FPZ-pfOB",
    "outputId": "8f17126c-8a7d-46f2-cee2-3192fd58bf57"
   },
   "outputs": [
    {
     "name": "stdout",
     "output_type": "stream",
     "text": [
      "1.423730148840502e+21\n"
     ]
    }
   ],
   "source": [
    "from sklearn.linear_model import LinearRegression\n",
    "mod = LinearRegression()\n",
    "mod.fit(X_train,Y_train)\n",
    "y_pred = mod.predict(X_test)\n",
    "print(model.loss_func(Y_test,y_pred))"
   ]
  },
  {
   "cell_type": "code",
   "execution_count": null,
   "metadata": {
    "colab": {
     "base_uri": "https://localhost:8080/"
    },
    "id": "IY2HTasqqSEQ",
    "outputId": "2aeec49c-cbeb-48bc-df18-cac28ab9f5cc"
   },
   "outputs": [
    {
     "data": {
      "text/plain": [
       "array([-1.97398830e+00,  2.39551658e+00,  1.59733391e+01, -7.43569222e+01,\n",
       "        2.45754370e+01, -1.99304417e+00, -1.16091335e+00, -7.37561736e+00,\n",
       "        4.38464472e+01, -5.69257295e+00,  2.27717062e+04, -1.83241365e+01,\n",
       "       -1.92073932e+01, -1.88588959e+10, -2.26025023e+04, -1.92396926e+01,\n",
       "        1.49575852e+01,  1.91390957e+01])"
      ]
     },
     "execution_count": 71,
     "metadata": {},
     "output_type": "execute_result"
    }
   ],
   "source": [
    "mod.coef_"
   ]
  },
  {
   "cell_type": "code",
   "execution_count": null,
   "metadata": {
    "colab": {
     "base_uri": "https://localhost:8080/"
    },
    "id": "NsE--dZhqcHx",
    "outputId": "06d425f6-6c18-4316-e50e-19392727915a"
   },
   "outputs": [
    {
     "data": {
      "text/plain": [
       "array([ -5.02259056,  -4.28518345,  13.9133417 ,   4.75388887,\n",
       "        21.81820026,  -5.33600507,  -4.63849189, -11.05918294,\n",
       "        19.42499209,  -7.57778394,  -0.23119378, -12.89889742,\n",
       "        -8.43831696,   1.51332247,  -2.10896918,  -8.17799728,\n",
       "        14.443285  ,   5.26507715,  19.84094744])"
      ]
     },
     "execution_count": 72,
     "metadata": {},
     "output_type": "execute_result"
    }
   ],
   "source": [
    "model.trained_weights\n"
   ]
  },
  {
   "cell_type": "code",
   "execution_count": null,
   "metadata": {
    "colab": {
     "base_uri": "https://localhost:8080/"
    },
    "id": "2WaZIXLdrFwW",
    "outputId": "a9df23c5-8402-49a2-ff54-95b0cff5f835"
   },
   "outputs": [
    {
     "name": "stdout",
     "output_type": "stream",
     "text": [
      "MAE: 2096241941.6426315\n",
      "MSE: 1.423730148840502e+21\n",
      "RMSE: 37732348838.105774\n"
     ]
    }
   ],
   "source": [
    "from sklearn.metrics import mean_absolute_error,mean_squared_error\n",
    "mae = mean_absolute_error(y_true=Y_test,y_pred=y_pred)\n",
    "#squared True returns MSE value, False returns RMSE value.\n",
    "mse = mean_squared_error(y_true=Y_test,y_pred=y_pred) #default=True\n",
    "rmse = mean_squared_error(y_true=Y_test,y_pred=y_pred,squared=False)\n",
    "  \n",
    "print(\"MAE:\",mae)\n",
    "print(\"MSE:\",mse)\n",
    "print(\"RMSE:\",rmse)"
   ]
  },
  {
   "cell_type": "code",
   "execution_count": null,
   "metadata": {
    "colab": {
     "base_uri": "https://localhost:8080/"
    },
    "id": "2Mx48WDEqd8b",
    "outputId": "0b0a197f-ace2-4dc0-f816-521416f4dd09"
   },
   "outputs": [
    {
     "name": "stdout",
     "output_type": "stream",
     "text": [
      "R2_score -3.673065173555335e+17\n"
     ]
    }
   ],
   "source": [
    "print(\"R2_score\",r2_score(Y_test,y_pred))"
   ]
  },
  {
   "cell_type": "code",
   "execution_count": null,
   "metadata": {
    "id": "YxPMD8vStV9O"
   },
   "outputs": [],
   "source": []
  }
 ],
 "metadata": {
  "accelerator": "GPU",
  "colab": {
   "collapsed_sections": [],
   "include_colab_link": true,
   "provenance": []
  },
  "gpuClass": "standard",
  "kernelspec": {
   "display_name": "Python 3 (ipykernel)",
   "language": "python",
   "name": "python3"
  },
  "language_info": {
   "codemirror_mode": {
    "name": "ipython",
    "version": 3
   },
   "file_extension": ".py",
   "mimetype": "text/x-python",
   "name": "python",
   "nbconvert_exporter": "python",
   "pygments_lexer": "ipython3",
   "version": "3.9.7"
  }
 },
 "nbformat": 4,
 "nbformat_minor": 1
}
